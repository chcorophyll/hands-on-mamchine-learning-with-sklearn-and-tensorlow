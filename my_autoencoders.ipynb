{
  "nbformat": 4,
  "nbformat_minor": 0,
  "metadata": {
    "colab": {
      "name": "my_autoencoders.ipynb",
      "version": "0.3.2",
      "provenance": [],
      "collapsed_sections": [],
      "include_colab_link": true
    },
    "kernelspec": {
      "name": "python3",
      "display_name": "Python 3"
    },
    "accelerator": "GPU"
  },
  "cells": [
    {
      "cell_type": "markdown",
      "metadata": {
        "id": "view-in-github",
        "colab_type": "text"
      },
      "source": [
        "<a href=\"https://colab.research.google.com/github/chcorophyll/hands-on-mamchine-learning-with-sklearn-and-tensorlow/blob/master/my_autoencoders.ipynb\" target=\"_parent\"><img src=\"https://colab.research.google.com/assets/colab-badge.svg\" alt=\"Open In Colab\"/></a>"
      ]
    },
    {
      "cell_type": "code",
      "metadata": {
        "id": "KbQeGl0XKwE0",
        "colab_type": "code",
        "outputId": "888752ab-df6e-494f-9a99-1e9d8c86e792",
        "colab": {
          "base_uri": "https://localhost:8080/",
          "height": 105
        }
      },
      "source": [
        "!git clone https://github.com/chcorophyll/handson-ml.git"
      ],
      "execution_count": 1,
      "outputs": [
        {
          "output_type": "stream",
          "text": [
            "Cloning into 'handson-ml'...\n",
            "remote: Enumerating objects: 1448, done.\u001b[K\n",
            "remote: Total 1448 (delta 0), reused 0 (delta 0), pack-reused 1448\u001b[K\n",
            "Receiving objects: 100% (1448/1448), 82.91 MiB | 44.34 MiB/s, done.\n",
            "Resolving deltas: 100% (837/837), done.\n"
          ],
          "name": "stdout"
        }
      ]
    },
    {
      "cell_type": "code",
      "metadata": {
        "id": "_T546c7uXDtQ",
        "colab_type": "code",
        "outputId": "3b0ec1ec-6414-4e77-9338-995d8224e028",
        "colab": {
          "base_uri": "https://localhost:8080/",
          "height": 34
        }
      },
      "source": [
        "!ls"
      ],
      "execution_count": 2,
      "outputs": [
        {
          "output_type": "stream",
          "text": [
            "handson-ml  sample_data\n"
          ],
          "name": "stdout"
        }
      ]
    },
    {
      "cell_type": "code",
      "metadata": {
        "id": "UwPH9HbtXGDg",
        "colab_type": "code",
        "colab": {}
      },
      "source": [
        "import os\n",
        "\n",
        "path_org = os.getcwd()\n",
        "path_data = os.path.join(path_org, \"handson-ml\")\n",
        "os.chdir(path_data)"
      ],
      "execution_count": 0,
      "outputs": []
    },
    {
      "cell_type": "markdown",
      "metadata": {
        "id": "c5TMF1NyXjg4",
        "colab_type": "text"
      },
      "source": [
        "**PCA with a linear Autoencoder**"
      ]
    },
    {
      "cell_type": "code",
      "metadata": {
        "id": "Sasmndh8XqmU",
        "colab_type": "code",
        "colab": {}
      },
      "source": [
        "# To support both python 2 and python 3\n",
        "from __future__ import division, print_function, unicode_literals\n",
        "\n",
        "# Common imports\n",
        "import numpy as np\n",
        "import os\n",
        "import sys\n",
        "\n",
        "# to make this notebook's output stable across runs\n",
        "def reset_graph(seed=42):\n",
        "    tf.reset_default_graph()\n",
        "    tf.set_random_seed(seed)\n",
        "    np.random.seed(seed)\n",
        "\n",
        "# To plot pretty figures\n",
        "%matplotlib inline\n",
        "import matplotlib\n",
        "import matplotlib.pyplot as plt\n",
        "plt.rcParams['axes.labelsize'] = 14\n",
        "plt.rcParams['xtick.labelsize'] = 12\n",
        "plt.rcParams['ytick.labelsize'] = 12\n",
        "\n",
        "# Where to save the figures\n",
        "PROJECT_ROOT_DIR = \".\"\n",
        "CHAPTER_ID = \"autoencoders\"\n",
        "\n",
        "def save_fig(fig_id, tight_layout=True):\n",
        "    path = os.path.join(PROJECT_ROOT_DIR, \"images\", CHAPTER_ID, fig_id + \".png\")\n",
        "    print(\"Saving figure\", fig_id)\n",
        "    if tight_layout:\n",
        "        plt.tight_layout()\n",
        "    plt.savefig(path, format='png', dpi=300)"
      ],
      "execution_count": 0,
      "outputs": []
    },
    {
      "cell_type": "code",
      "metadata": {
        "id": "V0veWagxX3J5",
        "colab_type": "code",
        "colab": {}
      },
      "source": [
        "def plot_image(image, shape=[28, 28]):\n",
        "    plt.imshow(image.reshape(shape), cmap=\"Greys\", interpolation=\"nearest\")\n",
        "    plt.axis(\"off\")"
      ],
      "execution_count": 0,
      "outputs": []
    },
    {
      "cell_type": "code",
      "metadata": {
        "id": "vWo36e4qYanj",
        "colab_type": "code",
        "colab": {}
      },
      "source": [
        "def plot_multiple_images(images, n_rows, n_cols, pad=2):\n",
        "    images = images - images.min()  # make the minimum == 0, so the padding looks white\n",
        "    w,h = images.shape[1:]\n",
        "    image = np.zeros(((w+pad)*n_rows+pad, (h+pad)*n_cols+pad))\n",
        "    for y in range(n_rows):\n",
        "        for x in range(n_cols):\n",
        "            image[(y*(h+pad)+pad):(y*(h+pad)+pad+h),(x*(w+pad)+pad):(x*(w+pad)+pad+w)] = images[y*n_cols+x]\n",
        "    plt.imshow(image, cmap=\"Greys\", interpolation=\"nearest\")\n",
        "    plt.axis(\"off\")       "
      ],
      "execution_count": 0,
      "outputs": []
    },
    {
      "cell_type": "code",
      "metadata": {
        "id": "9pEFR-QnZ7sk",
        "colab_type": "code",
        "colab": {}
      },
      "source": [
        "import numpy.random as rnd\n",
        "\n",
        "rnd.seed(4)\n",
        "m = 200\n",
        "w1, w2 = 0.1, 0.3\n",
        "noise = 0.1\n",
        "\n",
        "angles = rnd.rand(m) * 3 * np.pi / 2 - 0.5\n",
        "data = np.empty((m, 3))\n",
        "data[:, 0] = np.cos(angles) + np.sin(angles) / 2 + noise * rnd.randn(m) / 2\n",
        "data[:, 1] = np.sin(angles) * 0.7 + noise * rnd.randn(m) / 2\n",
        "data[:, 2] = data[:, 0] * w1 + data[:, 1] * w2 + noise * rnd.randn(m)"
      ],
      "execution_count": 0,
      "outputs": []
    },
    {
      "cell_type": "code",
      "metadata": {
        "id": "lZH413OlbrUs",
        "colab_type": "code",
        "colab": {}
      },
      "source": [
        "from sklearn.preprocessing import StandardScaler\n",
        "\n",
        "scaler = StandardScaler()\n",
        "X_train = scaler.fit_transform(data[:100])\n",
        "X_test = scaler.transform(data[100:])"
      ],
      "execution_count": 0,
      "outputs": []
    },
    {
      "cell_type": "code",
      "metadata": {
        "id": "ATfr3jiocf5-",
        "colab_type": "code",
        "colab": {
          "base_uri": "https://localhost:8080/",
          "height": 160
        },
        "outputId": "c7b84a68-ecbe-4608-d5e5-6633e9e3d4e9"
      },
      "source": [
        "import tensorflow as tf\n",
        "\n",
        "reset_graph()\n",
        "\n",
        "n_inputs = 3\n",
        "n_hidden = 2 #codings\n",
        "n_outputs = n_inputs\n",
        "\n",
        "learning_rate = 0.01\n",
        "\n",
        "X = tf.placeholder(tf.float32, shape=[None, n_inputs])\n",
        "hidden = tf.layers.dense(X, n_hidden)\n",
        "outputs = tf.layers.dense(hidden, n_outputs)\n",
        "\n",
        "reconstruction_loss = tf.reduce_mean(tf.square(outputs - X))\n",
        "\n",
        "optimizer = tf.train.AdamOptimizer(learning_rate)\n",
        "training_op = optimizer.minimize(reconstruction_loss)\n",
        "\n",
        "init = tf.global_variables_initializer()"
      ],
      "execution_count": 9,
      "outputs": [
        {
          "output_type": "stream",
          "text": [
            "WARNING: Logging before flag parsing goes to stderr.\n",
            "W0709 05:30:50.230879 140395317376896 deprecation.py:323] From <ipython-input-9-bcbbcd1e68ab>:12: dense (from tensorflow.python.layers.core) is deprecated and will be removed in a future version.\n",
            "Instructions for updating:\n",
            "Use keras.layers.dense instead.\n",
            "W0709 05:30:50.236444 140395317376896 deprecation.py:506] From /usr/local/lib/python3.6/dist-packages/tensorflow/python/ops/init_ops.py:1251: calling VarianceScaling.__init__ (from tensorflow.python.ops.init_ops) with dtype is deprecated and will be removed in a future version.\n",
            "Instructions for updating:\n",
            "Call initializer instance with the dtype argument instead of passing it to the constructor\n"
          ],
          "name": "stderr"
        }
      ]
    },
    {
      "cell_type": "code",
      "metadata": {
        "id": "HiV_fYkQeLdh",
        "colab_type": "code",
        "colab": {}
      },
      "source": [
        "n_iterations = 1000\n",
        "codings = hidden\n",
        "\n",
        "with tf.Session() as sess:\n",
        "    init.run()\n",
        "    for iteration in range(n_iterations):\n",
        "        training_op.run(feed_dict={X: X_train})\n",
        "    codings_val = codings.eval(feed_dict={X: X_test})"
      ],
      "execution_count": 0,
      "outputs": []
    },
    {
      "cell_type": "code",
      "metadata": {
        "id": "Ubun7b_yfgGs",
        "colab_type": "code",
        "outputId": "e286e95d-3f77-4c6c-a33b-eb7d3409ad81",
        "colab": {
          "base_uri": "https://localhost:8080/",
          "height": 242
        }
      },
      "source": [
        "fig = plt.figure(figsize=(4, 3))\n",
        "plt.plot(codings_val[:,0], codings_val[:, 1], \"b.\")\n",
        "plt.xlabel(\"$z_1$\", fontsize=18)\n",
        "plt.ylabel(\"$z_2$\", fontsize=18, rotation=0)\n",
        "save_fig(\"linear_autoencoder_pca_plot\")\n",
        "plt.show()"
      ],
      "execution_count": 11,
      "outputs": [
        {
          "output_type": "stream",
          "text": [
            "Saving figure linear_autoencoder_pca_plot\n"
          ],
          "name": "stdout"
        },
        {
          "output_type": "display_data",
          "data": {
            "image/png": "[encoded data removed]",
            "text/plain": [
              "<Figure size 288x216 with 1 Axes>"
            ]
          },
          "metadata": {
            "tags": []
          }
        }
      ]
    },
    {
      "cell_type": "markdown",
      "metadata": {
        "id": "dTo8BL4Vf_ue",
        "colab_type": "text"
      },
      "source": [
        "**Stacked Autoencoders**"
      ]
    },
    {
      "cell_type": "code",
      "metadata": {
        "id": "rxmmYfyzf_L6",
        "colab_type": "code",
        "outputId": "51040631-0e72-4d8f-f2bb-2d165f7a8887",
        "colab": {
          "base_uri": "https://localhost:8080/",
          "height": 494
        }
      },
      "source": [
        "from tensorflow.examples.tutorials.mnist import input_data\n",
        "\n",
        "mnist = input_data.read_data_sets(\"/tmp/data/\")"
      ],
      "execution_count": 12,
      "outputs": [
        {
          "output_type": "stream",
          "text": [
            "W0709 05:30:57.521715 140395317376896 deprecation.py:323] From <ipython-input-12-4141630e56b4>:3: read_data_sets (from tensorflow.contrib.learn.python.learn.datasets.mnist) is deprecated and will be removed in a future version.\n",
            "Instructions for updating:\n",
            "Please use alternatives such as official/mnist/dataset.py from tensorflow/models.\n",
            "W0709 05:30:57.522718 140395317376896 deprecation.py:323] From /usr/local/lib/python3.6/dist-packages/tensorflow/contrib/learn/python/learn/datasets/mnist.py:260: maybe_download (from tensorflow.contrib.learn.python.learn.datasets.base) is deprecated and will be removed in a future version.\n",
            "Instructions for updating:\n",
            "Please write your own downloading logic.\n",
            "W0709 05:30:57.523798 140395317376896 deprecation.py:323] From /usr/local/lib/python3.6/dist-packages/tensorflow/contrib/learn/python/learn/datasets/base.py:252: _internal_retry.<locals>.wrap.<locals>.wrapped_fn (from tensorflow.contrib.learn.python.learn.datasets.base) is deprecated and will be removed in a future version.\n",
            "Instructions for updating:\n",
            "Please use urllib or similar directly.\n",
            "W0709 05:30:57.680673 140395317376896 deprecation.py:323] From /usr/local/lib/python3.6/dist-packages/tensorflow/contrib/learn/python/learn/datasets/mnist.py:262: extract_images (from tensorflow.contrib.learn.python.learn.datasets.mnist) is deprecated and will be removed in a future version.\n",
            "Instructions for updating:\n",
            "Please use tf.data to implement this functionality.\n"
          ],
          "name": "stderr"
        },
        {
          "output_type": "stream",
          "text": [
            "Successfully downloaded train-images-idx3-ubyte.gz 9912422 bytes.\n",
            "Extracting /tmp/data/train-images-idx3-ubyte.gz\n"
          ],
          "name": "stdout"
        },
        {
          "output_type": "stream",
          "text": [
            "W0709 05:30:57.962527 140395317376896 deprecation.py:323] From /usr/local/lib/python3.6/dist-packages/tensorflow/contrib/learn/python/learn/datasets/mnist.py:267: extract_labels (from tensorflow.contrib.learn.python.learn.datasets.mnist) is deprecated and will be removed in a future version.\n",
            "Instructions for updating:\n",
            "Please use tf.data to implement this functionality.\n",
            "W0709 05:30:58.143549 140395317376896 deprecation.py:323] From /usr/local/lib/python3.6/dist-packages/tensorflow/contrib/learn/python/learn/datasets/mnist.py:290: DataSet.__init__ (from tensorflow.contrib.learn.python.learn.datasets.mnist) is deprecated and will be removed in a future version.\n",
            "Instructions for updating:\n",
            "Please use alternatives such as official/mnist/dataset.py from tensorflow/models.\n"
          ],
          "name": "stderr"
        },
        {
          "output_type": "stream",
          "text": [
            "Successfully downloaded train-labels-idx1-ubyte.gz 28881 bytes.\n",
            "Extracting /tmp/data/train-labels-idx1-ubyte.gz\n",
            "Successfully downloaded t10k-images-idx3-ubyte.gz 1648877 bytes.\n",
            "Extracting /tmp/data/t10k-images-idx3-ubyte.gz\n",
            "Successfully downloaded t10k-labels-idx1-ubyte.gz 4542 bytes.\n",
            "Extracting /tmp/data/t10k-labels-idx1-ubyte.gz\n"
          ],
          "name": "stdout"
        }
      ]
    },
    {
      "cell_type": "markdown",
      "metadata": {
        "id": "wRbteCQLifKR",
        "colab_type": "text"
      },
      "source": [
        "Train all layers at once"
      ]
    },
    {
      "cell_type": "code",
      "metadata": {
        "id": "XVXNxX_4iUDR",
        "colab_type": "code",
        "colab": {}
      },
      "source": [
        "reset_graph()\n",
        "\n",
        "from functools import partial\n",
        "\n",
        "n_inputs = 28 * 28\n",
        "n_hidden1 = 300\n",
        "n_hidden2 = 150  # codings\n",
        "n_hidden3 = n_hidden1\n",
        "n_outputs = n_inputs\n",
        "\n",
        "learning_rate = 0.01\n",
        "l2_reg = 0.0001\n",
        "\n",
        "X = tf.placeholder(tf.float32, shape=[None, n_inputs])\n",
        "\n",
        "he_init = tf.contrib.layers.variance_scaling_initializer() # He initialization\n",
        "#Equivalent to:\n",
        "#he_init = lambda shape, dtype=tf.float32: tf.truncated_normal(shape, 0., stddev=np.sqrt(2/shape[0]))\n",
        "l2_regularizer = tf.contrib.layers.l2_regularizer(l2_reg)\n",
        "my_dense_layer = partial(tf.layers.dense,\n",
        "                         activation=tf.nn.elu,\n",
        "                         kernel_initializer=he_init,\n",
        "                         kernel_regularizer=l2_regularizer)\n",
        "\n",
        "hidden1 = my_dense_layer(X, n_hidden1)\n",
        "hidden2 = my_dense_layer(hidden1, n_hidden2)\n",
        "hidden3 = my_dense_layer(hidden2, n_hidden3)\n",
        "outputs = my_dense_layer(hidden3, n_outputs, activation=None)\n",
        "\n",
        "reconstruction_loss = tf.reduce_mean(tf.square(outputs - X))\n",
        "\n",
        "reg_losses = tf.get_collection(tf.GraphKeys.REGULARIZATION_LOSSES)\n",
        "loss = tf.add_n([reconstruction_loss] + reg_losses)\n",
        "\n",
        "optimizer = tf.train.AdamOptimizer(learning_rate)\n",
        "training_op = optimizer.minimize(loss)\n",
        "\n",
        "init = tf.global_variables_initializer()\n",
        "saver = tf.train.Saver() # not shown in the book"
      ],
      "execution_count": 0,
      "outputs": []
    },
    {
      "cell_type": "code",
      "metadata": {
        "id": "XCy0ezsQpIew",
        "colab_type": "code",
        "outputId": "741dd145-711e-42e6-b48b-14256ca4891a",
        "colab": {
          "base_uri": "https://localhost:8080/",
          "height": 105
        }
      },
      "source": [
        "n_epochs = 5\n",
        "batch_size = 150\n",
        "\n",
        "with tf.Session() as sess:\n",
        "    init.run()\n",
        "    for epoch in range(n_epochs):\n",
        "        n_batches = mnist.train.num_examples // batch_size\n",
        "        for iteration in range(n_batches):\n",
        "            print(\"\\r{}%\".format(100 * iteration // n_batches), end=\"\") # not shown in the book\n",
        "            sys.stdout.flush()                                          # not shown\n",
        "            X_batch, y_batch = mnist.train.next_batch(batch_size)\n",
        "            sess.run(training_op, feed_dict={X: X_batch})\n",
        "        loss_train = reconstruction_loss.eval(feed_dict={X: X_batch})   # not shown\n",
        "        print(\"\\r{}\".format(epoch), \"Train MSE:\", loss_train)           # not shown\n",
        "    saver.save(sess, \"./my_model_all_layers.ckpt\")                  # not shown"
      ],
      "execution_count": 14,
      "outputs": [
        {
          "output_type": "stream",
          "text": [
            "0 Train MSE: 0.021704312\n",
            "1 Train MSE: 0.011390962\n",
            "2 Train MSE: 0.010224745\n",
            "3 Train MSE: 0.009903798\n",
            "4 Train MSE: 0.010375821\n"
          ],
          "name": "stdout"
        }
      ]
    },
    {
      "cell_type": "code",
      "metadata": {
        "id": "ywtl-j3ktEt5",
        "colab_type": "code",
        "colab": {}
      },
      "source": [
        "def show_reconstructed_digits(X, outputs, model_path = None, n_test_digits = 2):\n",
        "    with tf.Session() as sess:\n",
        "        if model_path:\n",
        "            saver.restore(sess, model_path)\n",
        "        X_test = mnist.test.images[:n_test_digits]\n",
        "        outputs_val = outputs.eval(feed_dict={X: X_test})\n",
        "\n",
        "    fig = plt.figure(figsize=(8, 3 * n_test_digits))\n",
        "    for digit_index in range(n_test_digits):\n",
        "        plt.subplot(n_test_digits, 2, digit_index * 2 + 1)\n",
        "        plot_image(X_test[digit_index])\n",
        "        plt.subplot(n_test_digits, 2, digit_index * 2 + 2)\n",
        "        plot_image(outputs_val[digit_index])"
      ],
      "execution_count": 0,
      "outputs": []
    },
    {
      "cell_type": "code",
      "metadata": {
        "id": "mVJcMbh5uugM",
        "colab_type": "code",
        "outputId": "07fe4e07-943a-4b9e-8185-639123787de1",
        "colab": {
          "base_uri": "https://localhost:8080/",
          "height": 531
        }
      },
      "source": [
        "show_reconstructed_digits(X, outputs, \"./my_model_all_layers.ckpt\")\n",
        "save_fig(\"reconstruction_plot\")"
      ],
      "execution_count": 16,
      "outputs": [
        {
          "output_type": "stream",
          "text": [
            "W0709 05:31:05.989328 140395317376896 deprecation.py:323] From /usr/local/lib/python3.6/dist-packages/tensorflow/python/training/saver.py:1276: checkpoint_exists (from tensorflow.python.training.checkpoint_management) is deprecated and will be removed in a future version.\n",
            "Instructions for updating:\n",
            "Use standard file APIs to check for files with this prefix.\n"
          ],
          "name": "stderr"
        },
        {
          "output_type": "stream",
          "text": [
            "Saving figure reconstruction_plot\n"
          ],
          "name": "stdout"
        },
        {
          "output_type": "display_data",
          "data": {
            "image/png": "[encoded data removed]",
            "text/plain": [
              "<Figure size 576x432 with 4 Axes>"
            ]
          },
          "metadata": {
            "tags": []
          }
        }
      ]
    },
    {
      "cell_type": "markdown",
      "metadata": {
        "id": "wpwDsP28OlO6",
        "colab_type": "text"
      },
      "source": [
        "**Tying weights**"
      ]
    },
    {
      "cell_type": "code",
      "metadata": {
        "id": "T0uYAUM8NvuU",
        "colab_type": "code",
        "colab": {}
      },
      "source": [
        "reset_graph()\n",
        "\n",
        "n_inputs = 28 * 28\n",
        "n_hidden1 = 300\n",
        "n_hidden2 = 150 #codings\n",
        "n_hidden3 = n_hidden1\n",
        "n_outputs = n_inputs\n",
        "\n",
        "learning_rate = 0.01\n",
        "l2_reg = 0.0005"
      ],
      "execution_count": 0,
      "outputs": []
    },
    {
      "cell_type": "code",
      "metadata": {
        "id": "uKGh7c1-PqGZ",
        "colab_type": "code",
        "colab": {}
      },
      "source": [
        "activation = tf.nn.elu\n",
        "regularizer = tf.contrib.layers.l2_regularizer(l2_reg)\n",
        "initializer = tf.contrib.layers.variance_scaling_initializer()\n",
        "\n",
        "X = tf.placeholder(tf.float32, shape=[None, n_inputs])\n",
        "\n",
        "weights1_init = initializer([n_inputs, n_hidden1])\n",
        "weights2_init = initializer([n_hidden1, n_hidden2])\n",
        "\n",
        "weights1 = tf.Variable(weights1_init, dtype=tf.float32, name=\"weights1\")\n",
        "weights2 = tf.Variable(weights2_init, dtype=tf.float32, name=\"weights2\")\n",
        "weights3 = tf.transpose(weights2, name=\"weights3\") # tied weights\n",
        "weights4 = tf.transpose(weights1, name=\"weights4\")\n",
        "\n",
        "biases1 = tf.Variable(tf.zeros(n_hidden1), name=\"biases1\")\n",
        "biases2 = tf.Variable(tf.zeros(n_hidden2), name=\"biases2\")\n",
        "biases3 = tf.Variable(tf.zeros(n_hidden3), name=\"biases3\")\n",
        "biases4 = tf.Variable(tf.zeros(n_outputs), name=\"biases4\")\n",
        "\n",
        "hidden1 = activation(tf.matmul(X, weights1) + biases1)\n",
        "hidden2 = activation(tf.matmul(hidden1, weights2) + biases2)\n",
        "hidden3 = activation(tf.matmul(hidden2, weights3) + biases3)\n",
        "outputs = tf.matmul(hidden3, weights4) + biases4\n",
        "\n",
        "reconstruction_loss = tf.reduce_mean(tf.square(outputs - X))\n",
        "reg_loss = regularizer(weights1) + regularizer(weights2)\n",
        "loss = reconstruction_loss + reg_loss\n",
        "\n",
        "optimizer = tf.train.AdamOptimizer(learning_rate)\n",
        "training_op = optimizer.minimize(loss)\n",
        "\n",
        "init = tf.global_variables_initializer()\n",
        "saver = tf.train.Saver()"
      ],
      "execution_count": 0,
      "outputs": []
    },
    {
      "cell_type": "code",
      "metadata": {
        "id": "Dlk0Oh_QUt1W",
        "colab_type": "code",
        "colab": {
          "base_uri": "https://localhost:8080/",
          "height": 105
        },
        "outputId": "cce18a53-be80-4c20-d82e-d411ff70c1d3"
      },
      "source": [
        "n_epochs = 5\n",
        "batch_size = 150\n",
        "\n",
        "with tf.Session() as sess:\n",
        "    init.run()\n",
        "    for epoch in range(n_epochs):\n",
        "        n_batches = mnist.train.num_examples // batch_size\n",
        "        for iteration in range(n_batches):\n",
        "            print(\"\\r{}%\".format(100 * iteration // n_batches), end=\"\")\n",
        "            sys.stdout.flush()\n",
        "            X_batch, y_batch = mnist.train.next_batch(batch_size)\n",
        "            sess.run(training_op, feed_dict={X: X_batch})\n",
        "        loss_train = reconstruction_loss.eval(feed_dict={X: X_batch})\n",
        "        print(\"\\r{}\".format(epoch), \"Train MSE:\", loss_train)\n",
        "    saver.save(sess, \"./my_model_tying_weights.ckpt\")"
      ],
      "execution_count": 19,
      "outputs": [
        {
          "output_type": "stream",
          "text": [
            "0 Train MSE: 0.015066946\n",
            "1 Train MSE: 0.01648875\n",
            "2 Train MSE: 0.01737594\n",
            "3 Train MSE: 0.016878335\n",
            "4 Train MSE: 0.015587721\n"
          ],
          "name": "stdout"
        }
      ]
    },
    {
      "cell_type": "code",
      "metadata": {
        "id": "kjaqt7MbU3Zh",
        "colab_type": "code",
        "colab": {
          "base_uri": "https://localhost:8080/",
          "height": 379
        },
        "outputId": "fa9771a5-b1e9-41aa-fb73-9c6344c0e902"
      },
      "source": [
        "show_reconstructed_digits(X, outputs, \"./my_model_tying_weights.ckpt\")"
      ],
      "execution_count": 20,
      "outputs": [
        {
          "output_type": "display_data",
          "data": {
            "image/png": "[encoded data removed]",
            "text/plain": [
              "<Figure size 576x432 with 4 Axes>"
            ]
          },
          "metadata": {
            "tags": []
          }
        }
      ]
    },
    {
      "cell_type": "markdown",
      "metadata": {
        "id": "-MEsH6u_V8z8",
        "colab_type": "text"
      },
      "source": [
        "**Training one Autoencoder at a time in multiple graphs**"
      ]
    },
    {
      "cell_type": "code",
      "metadata": {
        "id": "1_zf7wbVV_bn",
        "colab_type": "code",
        "colab": {}
      },
      "source": [
        "reset_graph()\n",
        "\n",
        "from functools import partial\n",
        "\n",
        "def train_autoencoder(X_train, n_neurons, n_epochs, \n",
        "                      batch_size, learning_rate=0.01, \n",
        "                      l2_reg=0.0005, seed=42, \n",
        "                      hidden_activation=tf.nn.elu, \n",
        "                      output_activation=tf.nn.elu):\n",
        "    graph = tf.Graph()\n",
        "    with graph.as_default():\n",
        "        tf.set_random_seed(seed)\n",
        "        \n",
        "        n_inputs = X_train.shape[1]\n",
        "        \n",
        "        X = tf.placeholder(tf.float32, shape=[None, n_inputs])\n",
        "        \n",
        "        my_dense_layer = partial(tf.layers.dense, \n",
        "                                 kernel_initializer=tf.contrib.layers.variance_scaling_initializer(),\n",
        "                                 kernel_regularizer=tf.contrib.layers.l2_regularizer(l2_reg))\n",
        "        hidden = my_dense_layer(X, n_neurons, activation=hidden_activation, name=\"hidden\")\n",
        "        outputs = my_dense_layer(hidden, n_inputs, activation=output_activation, name=\"outputs\")\n",
        "        \n",
        "        reconstruction_loss = tf.reduce_mean(tf.square(outputs - X))\n",
        "        reg_losses = tf.get_collection(tf.GraphKeys.REGULARIZATION_LOSSES)\n",
        "        loss = tf.add_n([reconstruction_loss] + reg_losses)\n",
        "        optimizer = tf.train.AdamOptimizer(learning_rate)\n",
        "        training_op = optimizer.minimize(loss)\n",
        "        init = tf.global_variables_initializer()\n",
        "        \n",
        "    with tf.Session(graph=graph) as sess:\n",
        "        init.run()\n",
        "        for epoch in range(n_epochs):\n",
        "            n_batches = len(X_train) // batch_size\n",
        "            for iteration in range(n_batches):\n",
        "                print(\"\\r{}%\".format(100 * iteration // n_batches), end=\"\")\n",
        "                sys.stdout.flush()\n",
        "                indices = rnd.permutation(len(X_train))[:batch_size]\n",
        "                X_batch = X_train[indices]\n",
        "                sess.run(training_op, feed_dict={X: X_batch})\n",
        "            loss_train = reconstruction_loss.eval(feed_dict={X: X_batch})   \n",
        "            print(\"\\r{}\".format(epoch), \"Train MSE:\", loss_train)\n",
        "        params = dict([(var.name, var.eval()) for var in tf.get_collection(tf.GraphKeys.TRAINABLE_VARIABLES)])\n",
        "        hidden_val = hidden.eval(feed_dict={X: X_train})\n",
        "        return hidden_val, params[\"hidden/kernel:0\"], params[\"hidden/bias:0\"], params[\"outputs/kernel:0\"], params[\"outputs/bias:0\"]"
      ],
      "execution_count": 0,
      "outputs": []
    },
    {
      "cell_type": "code",
      "metadata": {
        "id": "kEyg9yo2f-a0",
        "colab_type": "code",
        "colab": {
          "base_uri": "https://localhost:8080/",
          "height": 34
        },
        "outputId": "ae2a2512-271c-498e-cc4b-35c91ad79661"
      },
      "source": [
        "mnist.train.images.shape"
      ],
      "execution_count": 24,
      "outputs": [
        {
          "output_type": "execute_result",
          "data": {
            "text/plain": [
              "(55000, 784)"
            ]
          },
          "metadata": {
            "tags": []
          },
          "execution_count": 24
        }
      ]
    },
    {
      "cell_type": "code",
      "metadata": {
        "id": "iQqVJuI5es5F",
        "colab_type": "code",
        "colab": {
          "base_uri": "https://localhost:8080/",
          "height": 157
        },
        "outputId": "88be06b0-cd1e-44d5-b83f-92e4b6be8c87"
      },
      "source": [
        "hidden_output, W1, b1, W4, b4 = train_autoencoder(mnist.train.images, n_neurons=300, n_epochs=4, batch_size=150, output_activation=None)\n",
        "_, W2, b2, W3, b3 = train_autoencoder(hidden_output, n_neurons=150, n_epochs=4, batch_size=150)"
      ],
      "execution_count": 23,
      "outputs": [
        {
          "output_type": "stream",
          "text": [
            "0 Train MSE: 0.01851794\n",
            "1 Train MSE: 0.01868272\n",
            "2 Train MSE: 0.018467719\n",
            "3 Train MSE: 0.019231753\n",
            "0 Train MSE: 0.0042360853\n",
            "1 Train MSE: 0.004832607\n",
            "2 Train MSE: 0.0046686865\n",
            "3 Train MSE: 0.0044038566\n"
          ],
          "name": "stdout"
        }
      ]
    },
    {
      "cell_type": "code",
      "metadata": {
        "id": "BxnndwAdhCIH",
        "colab_type": "code",
        "colab": {}
      },
      "source": [
        "reset_graph()\n",
        "\n",
        "n_inputs = 28 * 28\n",
        "\n",
        "X = tf.placeholder(tf.float32, shape=[None, n_inputs])\n",
        "hidden1 = tf.nn.elu(tf.matmul(X, W1) + b1)\n",
        "hidden2 = tf.nn.elu(tf.matmul(hidden1, W2) + b2)\n",
        "hidden3 = tf.nn.elu(tf.matmul(hidden2, W3) + b3)\n",
        "outputs = tf.matmul(hidden3, W4) + b4\n"
      ],
      "execution_count": 0,
      "outputs": []
    },
    {
      "cell_type": "code",
      "metadata": {
        "id": "6HI3tC6MipVt",
        "colab_type": "code",
        "colab": {
          "base_uri": "https://localhost:8080/",
          "height": 379
        },
        "outputId": "cfe93db6-052b-4c75-ca21-84a1dfc28067"
      },
      "source": [
        "show_reconstructed_digits(X, outputs)"
      ],
      "execution_count": 26,
      "outputs": [
        {
          "output_type": "display_data",
          "data": {
            "image/png": "[encoded data removed]",
            "text/plain": [
              "<Figure size 576x432 with 4 Axes>"
            ]
          },
          "metadata": {
            "tags": []
          }
        }
      ]
    },
    {
      "cell_type": "markdown",
      "metadata": {
        "id": "zVd6RLzsi3tG",
        "colab_type": "text"
      },
      "source": [
        "Training one Autoencoder at a time in a single graph\n",
        "\n",
        "Another approach is to use a single graph"
      ]
    },
    {
      "cell_type": "code",
      "metadata": {
        "id": "UURsU6Nsi3JN",
        "colab_type": "code",
        "colab": {}
      },
      "source": [
        "reset_graph()\n",
        "\n",
        "n_inputs = 28 * 28\n",
        "n_hidden1 = 300\n",
        "n_hidden2 = 150  # codings\n",
        "n_hidden3 = n_hidden1\n",
        "n_outputs = n_inputs\n",
        "\n",
        "learning_rate = 0.01\n",
        "l2_reg = 0.0001\n",
        "\n",
        "activation = tf.nn.elu\n",
        "regularizer = tf.contrib.layers.l2_regularizer(l2_reg)\n",
        "initializer = tf.contrib.layers.variance_scaling_initializer()\n",
        "\n",
        "X = tf.placeholder(tf.float32, shape=[None, n_inputs])\n",
        "\n",
        "weights1_init = initializer([n_inputs, n_hidden1])\n",
        "weights2_init = initializer([n_hidden1, n_hidden2])\n",
        "weights3_init = initializer([n_hidden2, n_hidden3])\n",
        "weights4_init = initializer([n_hidden3, n_outputs])\n",
        "\n",
        "weights1 = tf.Variable(weights1_init, dtype=tf.float32, name=\"weights1\")\n",
        "weights2 = tf.Variable(weights2_init, dtype=tf.float32, name=\"weights2\")\n",
        "weights3 = tf.Variable(weights3_init, dtype=tf.float32, name=\"weights3\")\n",
        "weights4 = tf.Variable(weights4_init, dtype=tf.float32, name=\"weights4\")\n",
        "\n",
        "biases1 = tf.Variable(tf.zeros(n_hidden1), name=\"biases1\")\n",
        "biases2 = tf.Variable(tf.zeros(n_hidden2), name=\"biases2\")\n",
        "biases3 = tf.Variable(tf.zeros(n_hidden3), name=\"biases3\")\n",
        "biases4 = tf.Variable(tf.zeros(n_outputs), name=\"biases4\")\n",
        "\n",
        "hidden1 = activation(tf.matmul(X, weights1) + biases1)\n",
        "hidden2 = activation(tf.matmul(hidden1, weights2) + biases2)\n",
        "hidden3 = activation(tf.matmul(hidden2, weights3) + biases3)\n",
        "outputs = tf.matmul(hidden3, weights4) + biases4\n",
        "\n",
        "reconstruction_loss = tf.reduce_mean(tf.square(outputs - X))\n",
        "optimizer = tf.train.AdamOptimizer(learning_rate)"
      ],
      "execution_count": 0,
      "outputs": []
    },
    {
      "cell_type": "code",
      "metadata": {
        "id": "Fx14uq3akde8",
        "colab_type": "code",
        "colab": {}
      },
      "source": [
        "with tf.name_scope(\"phase1\"):\n",
        "    phase1_outputs = tf.matmul(hidden1, weights4) + biases4 # bypass hidden2 and hidden3\n",
        "    phase1_reconstruction_loss = tf.reduce_mean(tf.square(phase1_outputs - X))\n",
        "    phase1_reg_loss = regularizer(weights1) + regularizer(weights4)\n",
        "    phase1_loss = phase1_reconstruction_loss + phase1_reg_loss\n",
        "    phase1_training_op = optimizer.minimize(phase1_loss)\n",
        "    \n",
        "with tf.name_scope(\"phase2\"):\n",
        "    phase2_reconstruction_loss = tf.reduce_mean(tf.square(hidden3 - hidden1))\n",
        "    phase2_reg_loss = regularizer(weights2) + regularizer(weights3)\n",
        "    phase2_loss = phase2_reconstruction_loss + phase2_reg_loss\n",
        "    train_vars = [weights2, biases2, weights3, biases3]\n",
        "    phase2_training_op = optimizer.minimize(phase2_loss, var_list=train_vars) # freeze hidden1    "
      ],
      "execution_count": 0,
      "outputs": []
    },
    {
      "cell_type": "code",
      "metadata": {
        "id": "OnqRLTnxmBLg",
        "colab_type": "code",
        "colab": {}
      },
      "source": [
        "init = tf.global_variables_initializer()\n",
        "saver = tf.train.Saver()"
      ],
      "execution_count": 0,
      "outputs": []
    },
    {
      "cell_type": "code",
      "metadata": {
        "id": "4LT-skyCmG-_",
        "colab_type": "code",
        "colab": {
          "base_uri": "https://localhost:8080/",
          "height": 210
        },
        "outputId": "3f396be6-3ffe-49ec-a8f4-3235c072c9fe"
      },
      "source": [
        "training_ops = [phase1_training_op, phase2_training_op]\n",
        "reconstruction_losses = [phase1_reconstruction_loss, phase2_reconstruction_loss]\n",
        "n_epochs = [4, 4]\n",
        "batch_sizes = [150, 150]\n",
        "\n",
        "with tf.Session() as sess:\n",
        "    init.run()\n",
        "    for phase in range(2):\n",
        "        print(\"Training phase #{}\".format(phase + 1))\n",
        "        for epoch in range(n_epochs[phase]):\n",
        "            n_batches = mnist.train.num_examples // batch_sizes[phase]\n",
        "            for iteration in range(n_batches):\n",
        "                print(\"\\r{}%\".format(100 * iteration // n_batches), end=\"\")\n",
        "                sys.stdout.flush()\n",
        "                X_batch, y_batch = mnist.train.next_batch(batch_sizes[phase])\n",
        "                sess.run(training_ops[phase], feed_dict={X: X_batch})\n",
        "            loss_train = reconstruction_losses[phase].eval(feed_dict={X: X_batch})\n",
        "            print(\"\\r{}\".format(epoch), \"Train MSE:\", loss_train)\n",
        "            saver.save(sess, \"./my_model_one_at_a_time.ckpt\")\n",
        "    loss_test = reconstruction_loss.eval(feed_dict={X: mnist.test.images})\n",
        "    print(\"Test MSE:\", loss_test)        \n",
        " "
      ],
      "execution_count": 30,
      "outputs": [
        {
          "output_type": "stream",
          "text": [
            "Training phase #1\n",
            "0 Train MSE: 0.007406866\n",
            "1 Train MSE: 0.007828821\n",
            "2 Train MSE: 0.007728097\n",
            "3 Train MSE: 0.007409007\n",
            "Training phase #2\n",
            "0 Train MSE: 0.41843706\n",
            "1 Train MSE: 0.0055693565\n",
            "2 Train MSE: 0.0029576572\n",
            "3 Train MSE: 0.0024327924\n",
            "Test MSE: 0.009813264\n"
          ],
          "name": "stdout"
        }
      ]
    },
    {
      "cell_type": "markdown",
      "metadata": {
        "id": "YRjpyxAIoDA9",
        "colab_type": "text"
      },
      "source": [
        "**Cache the frozen layer outputs**"
      ]
    },
    {
      "cell_type": "code",
      "metadata": {
        "id": "hsCcyS6IoOQE",
        "colab_type": "code",
        "colab": {
          "base_uri": "https://localhost:8080/",
          "height": 210
        },
        "outputId": "d6614bc4-8573-4169-c93e-955d17f7b310"
      },
      "source": [
        "training_ops = [phase1_training_op, phase2_training_op]\n",
        "reconstruction_losses = [phase1_reconstruction_loss, phase2_reconstruction_loss]\n",
        "n_epochs = [4, 4]\n",
        "batch_sizes = [150, 150]\n",
        "\n",
        "with tf.Session() as sess:\n",
        "    init.run()\n",
        "    for phase in range(2):\n",
        "        print(\"Training phase #{}\".format(phase + 1))\n",
        "        if phase == 1:\n",
        "            hidden1_cache = hidden1.eval(feed_dict={X: mnist.train.images})\n",
        "        for epoch in range(n_epochs[phase]):\n",
        "            n_batches = mnist.train.num_examples // batch_sizes[phase]\n",
        "            for iteration in range(n_batches):\n",
        "                print(\"\\r{}%\".format(100 * iteration // n_batches), end=\"\")\n",
        "                sys.stdout.flush()\n",
        "                if phase == 1:\n",
        "                    indices = rnd.permutation(mnist.train.num_examples)\n",
        "                    hidden1_batch = hidden1_cache[indices[:batch_sizes[phase]]]\n",
        "                    feed_dict = {hidden1: hidden1_batch}\n",
        "                    sess.run(training_ops[phase], feed_dict=feed_dict)\n",
        "                else:\n",
        "                    X_batch, y_batch = mnist.train.next_batch(batch_sizes[phase])\n",
        "                    feed_dict = {X: X_batch}\n",
        "                    sess.run(training_ops[phase], feed_dict=feed_dict)\n",
        "            loss_train = reconstruction_losses[phase].eval(feed_dict=feed_dict)\n",
        "            print(\"\\r{}\".format(epoch), \"Train MSE:\", loss_train)\n",
        "            saver.save(sess, \"./my_model_cache_frozen.ckpt\")\n",
        "    loss_test = reconstruction_loss.eval(feed_dict={X: mnist.test.images})\n",
        "    print(\"Test MSE:\", loss_test)"
      ],
      "execution_count": 31,
      "outputs": [
        {
          "output_type": "stream",
          "text": [
            "Training phase #1\n",
            "0 Train MSE: 0.0075382586\n",
            "1 Train MSE: 0.007754701\n",
            "2 Train MSE: 0.007343679\n",
            "3 Train MSE: 0.007837775\n",
            "Training phase #2\n",
            "0 Train MSE: 0.15071383\n",
            "1 Train MSE: 0.0044504195\n",
            "2 Train MSE: 0.0024290215\n",
            "3 Train MSE: 0.002051098\n",
            "Test MSE: 0.009798499\n"
          ],
          "name": "stdout"
        }
      ]
    },
    {
      "cell_type": "markdown",
      "metadata": {
        "id": "XuqKlzTqp8Zy",
        "colab_type": "text"
      },
      "source": [
        "Visualizing the Reconstructions"
      ]
    },
    {
      "cell_type": "code",
      "metadata": {
        "id": "_GVt8vGqqFSX",
        "colab_type": "code",
        "colab": {
          "base_uri": "https://localhost:8080/",
          "height": 272
        },
        "outputId": "3a6272af-38d6-408e-c7c2-f2e3f46f0627"
      },
      "source": [
        "n_test_digits = 2\n",
        "X_test = mnist.test.images[:n_test_digits]\n",
        "\n",
        "with tf.Session() as sess:\n",
        "    saver.restore(sess, \"./my_model_one_at_a_time.ckpt\") # not shown in the book\n",
        "    outputs_val = outputs.eval(feed_dict={X: X_test})\n",
        "\n",
        "def plot_image(image, shape=[28, 28]):\n",
        "    plt.imshow(image.reshape(shape), cmap=\"Greys\", interpolation=\"nearest\")\n",
        "    plt.axis(\"off\")\n",
        "\n",
        "for digit_index in range(n_test_digits):\n",
        "    plt.subplot(n_test_digits, 2, digit_index * 2 + 1)\n",
        "    plot_image(X_test[digit_index])\n",
        "    plt.subplot(n_test_digits, 2, digit_index * 2 + 2)\n",
        "    plot_image(outputs_val[digit_index])"
      ],
      "execution_count": 32,
      "outputs": [
        {
          "output_type": "display_data",
          "data": {
            "image/png": "[encoded data removed]",
            "text/plain": [
              "<Figure size 432x288 with 4 Axes>"
            ]
          },
          "metadata": {
            "tags": []
          }
        }
      ]
    },
    {
      "cell_type": "markdown",
      "metadata": {
        "id": "B3aH80keq5RO",
        "colab_type": "text"
      },
      "source": [
        "**Visualizing the extracted features**"
      ]
    },
    {
      "cell_type": "code",
      "metadata": {
        "id": "IesDilLGqWbP",
        "colab_type": "code",
        "colab": {
          "base_uri": "https://localhost:8080/",
          "height": 122
        },
        "outputId": "c3369bd0-3074-471c-9539-409f40b420f7"
      },
      "source": [
        "with tf.Session() as sess:\n",
        "    saver.restore(sess, \"./my_model_one_at_a_time.ckpt\") # not shown in the book\n",
        "    weights1_val = weights1.eval()\n",
        "\n",
        "for i in range(5):\n",
        "    plt.subplot(1, 5, i + 1)\n",
        "    plot_image(weights1_val.T[i])\n",
        "\n",
        "save_fig(\"extracted_features_plot\") # not shown\n",
        "plt.show()                          # not shown"
      ],
      "execution_count": 33,
      "outputs": [
        {
          "output_type": "stream",
          "text": [
            "Saving figure extracted_features_plot\n"
          ],
          "name": "stdout"
        },
        {
          "output_type": "display_data",
          "data": {
            "image/png": "[encoded data removed]",
            "text/plain": [
              "<Figure size 432x288 with 5 Axes>"
            ]
          },
          "metadata": {
            "tags": []
          }
        }
      ]
    },
    {
      "cell_type": "code",
      "metadata": {
        "id": "t6aswnpjrCl2",
        "colab_type": "code",
        "colab": {
          "base_uri": "https://localhost:8080/",
          "height": 34
        },
        "outputId": "89c56e42-86b3-4313-8191-b4f58950e652"
      },
      "source": [
        "weights1_val.shape"
      ],
      "execution_count": 34,
      "outputs": [
        {
          "output_type": "execute_result",
          "data": {
            "text/plain": [
              "(784, 300)"
            ]
          },
          "metadata": {
            "tags": []
          },
          "execution_count": 34
        }
      ]
    },
    {
      "cell_type": "markdown",
      "metadata": {
        "id": "yynCvzlnrMZy",
        "colab_type": "text"
      },
      "source": [
        "**Unsupervised pretraining**\n",
        "\n",
        "Let's create a small neural network for MNIST classification"
      ]
    },
    {
      "cell_type": "code",
      "metadata": {
        "id": "OLSTBFbBrL6b",
        "colab_type": "code",
        "colab": {}
      },
      "source": [
        "reset_graph()\n",
        "\n",
        "n_inputs = 28*28\n",
        "n_hidden1 = 300\n",
        "n_hidden2 = 150\n",
        "n_outputs = 10\n",
        "\n",
        "learning_rate = 0.01\n",
        "l2_reg = 0.0005\n",
        "\n",
        "activation = tf.nn.elu\n",
        "regularizer = tf.contrib.layers.l2_regularizer(l2_reg)\n",
        "initializer = tf.contrib.layers.variance_scaling_initializer()\n",
        "\n",
        "X = tf.placeholder(tf.float32, shape=[None, n_inputs])\n",
        "y = tf.placeholder(tf.int32, shape=[None])\n",
        "\n",
        "weights1_init = initializer([n_inputs, n_hidden1])\n",
        "weights2_init = initializer([n_hidden1, n_hidden2])\n",
        "weights3_init = initializer([n_hidden2, n_outputs])\n",
        "\n",
        "weights1 = tf.Variable(weights1_init, dtype=tf.float32, name=\"weights1\")\n",
        "weights2 = tf.Variable(weights2_init, dtype=tf.float32, name=\"weights2\")\n",
        "weights3 = tf.Variable(weights3_init, dtype=tf.float32, name=\"weights3\")\n",
        "\n",
        "biases1 = tf.Variable(tf.zeros(n_hidden1), name=\"biases1\")\n",
        "biases2 = tf.Variable(tf.zeros(n_hidden2), name=\"biases2\")\n",
        "biases3 = tf.Variable(tf.zeros(n_outputs), name=\"biases3\")\n",
        "\n",
        "hidden1 = activation(tf.matmul(X, weights1) + biases1)\n",
        "hidden2 = activation(tf.matmul(hidden1, weights2) + biases2)\n",
        "logits = tf.matmul(hidden2, weights3) + biases3\n",
        "\n",
        "cross_entropy = tf.nn.sparse_softmax_cross_entropy_with_logits(labels=y, logits=logits)\n",
        "reg_loss = regularizer(weights1) + regularizer(weights2) + regularizer(weights3)\n",
        "loss = cross_entropy + reg_loss\n",
        "optimizer = tf.train.AdamOptimizer(learning_rate)\n",
        "training_op = optimizer.minimize(loss)\n",
        "\n",
        "correct = tf.nn.in_top_k(logits, y, 1)\n",
        "accuracy = tf.reduce_mean(tf.cast(correct, tf.float32))\n",
        "\n",
        "init = tf.global_variables_initializer()\n",
        "pretrain_saver = tf.train.Saver([weights1, weights2, biases1, biases2]) #\n",
        "saver = tf.train.Saver()"
      ],
      "execution_count": 0,
      "outputs": []
    },
    {
      "cell_type": "markdown",
      "metadata": {
        "id": "f_V8mdWt2FDK",
        "colab_type": "text"
      },
      "source": [
        "Regular training (without pretraining):"
      ]
    },
    {
      "cell_type": "code",
      "metadata": {
        "id": "We09X8dmzuqR",
        "colab_type": "code",
        "colab": {
          "base_uri": "https://localhost:8080/",
          "height": 87
        },
        "outputId": "93148d99-d56a-410a-ef0b-dd3ddb257314"
      },
      "source": [
        "n_epochs = 4\n",
        "batch_size = 150\n",
        "n_labeled_instances = 20000\n",
        "\n",
        "with tf.Session() as sess:\n",
        "    init.run()\n",
        "    for epoch in range(n_epochs):\n",
        "        n_batches = n_labeled_instances // batch_size\n",
        "        for iteration in range(n_batches):\n",
        "            print(\"\\r{}%\".format(100 * iteration // n_batches), end=\"\")\n",
        "            sys.stdout.flush()\n",
        "            indices = rnd.permutation(n_labeled_instances)[:batch_size]\n",
        "            X_batch, y_batch = mnist.train.images[indices], mnist.train.labels[indices]\n",
        "            sess.run(training_op, feed_dict={X: X_batch, y: y_batch})\n",
        "        accuracy_val = accuracy.eval(feed_dict={X: X_batch, y: y_batch})\n",
        "        print(\"\\r{}\".format(epoch), \"Train accuracy:\", accuracy_val, end=\" \")\n",
        "        saver.save(sess, \"./my_model_supervised.ckpt\")\n",
        "        accuracy_val = accuracy.eval(feed_dict={X: mnist.test.images, y: mnist.test.labels})\n",
        "        print(\"Test accuracy:\", accuracy_val)"
      ],
      "execution_count": 36,
      "outputs": [
        {
          "output_type": "stream",
          "text": [
            "0 Train accuracy: 0.97333336 Test accuracy: 0.9334\n",
            "1 Train accuracy: 0.98 Test accuracy: 0.936\n",
            "2 Train accuracy: 0.97333336 Test accuracy: 0.9382\n",
            "3 Train accuracy: 0.9866667 Test accuracy: 0.9489\n"
          ],
          "name": "stdout"
        }
      ]
    },
    {
      "cell_type": "markdown",
      "metadata": {
        "id": "BcX2WAZi2r3P",
        "colab_type": "text"
      },
      "source": [
        "Now reusing the first two layers of the autoencoder we pretrained:"
      ]
    },
    {
      "cell_type": "code",
      "metadata": {
        "id": "_XPtSCnt2v3r",
        "colab_type": "code",
        "colab": {
          "base_uri": "https://localhost:8080/",
          "height": 87
        },
        "outputId": "af6f9213-4628-46d5-9764-6fc39e13c825"
      },
      "source": [
        "n_epochs = 4\n",
        "batch_size = 150\n",
        "n_labeled_instances = 20000\n",
        "\n",
        "#training_op = optimizer.minimize(loss, var_list=[weights3, biases3])  # Freeze layers 1 and 2 (optional)\n",
        "\n",
        "with tf.Session() as sess:\n",
        "    init.run()\n",
        "    pretrain_saver.restore(sess, \"./my_model_cache_frozen.ckpt\")\n",
        "    for epoch in range(n_epochs):\n",
        "        n_batches = n_labeled_instances // batch_size\n",
        "        for iteration in range(n_batches):\n",
        "            print(\"\\r{}%\".format(100 * iteration // n_batches), end=\"\")\n",
        "            sys.stdout.flush()\n",
        "            indices = rnd.permutation(n_labeled_instances)[:batch_size]\n",
        "            X_batch, y_batch = mnist.train.images[indices], mnist.train.labels[indices]\n",
        "            sess.run(training_op, feed_dict={X: X_batch, y: y_batch})\n",
        "            accuracy_val = accuracy.eval(feed_dict={X: X_batch, y: y_batch})\n",
        "        print(\"\\r{}\".format(epoch), \"Train accuracy:\", accuracy_val, end=\"\\t\")\n",
        "        saver.save(sess, \"./my_model_supervised_pretrained.ckpt\")\n",
        "        accuracy_val = accuracy.eval(feed_dict={X: mnist.test.images, y: mnist.test.labels})\n",
        "        print(\"Test accuracy:\", accuracy_val)"
      ],
      "execution_count": 37,
      "outputs": [
        {
          "output_type": "stream",
          "text": [
            "0 Train accuracy: 0.94666666\tTest accuracy: 0.9297\n",
            "1 Train accuracy: 0.98\tTest accuracy: 0.9386\n",
            "2 Train accuracy: 0.98\tTest accuracy: 0.9434\n",
            "3 Train accuracy: 0.97333336\tTest accuracy: 0.9509\n"
          ],
          "name": "stdout"
        }
      ]
    },
    {
      "cell_type": "markdown",
      "metadata": {
        "id": "duQzzi1u5YtQ",
        "colab_type": "text"
      },
      "source": [
        "**Stacked denoising Autoencoder**"
      ]
    },
    {
      "cell_type": "markdown",
      "metadata": {
        "id": "ToiGaaA65f8d",
        "colab_type": "text"
      },
      "source": [
        "Gaussian noise"
      ]
    },
    {
      "cell_type": "code",
      "metadata": {
        "id": "J-Bo2yJK5YXM",
        "colab_type": "code",
        "colab": {}
      },
      "source": [
        "reset_graph()\n",
        "\n",
        "n_inputs = 28 * 28\n",
        "n_hidden1 = 300\n",
        "n_hidden2 = 150  # codings\n",
        "n_hidden3 = n_hidden1\n",
        "n_outputs = n_inputs\n",
        "\n",
        "learning_rate = 0.01"
      ],
      "execution_count": 0,
      "outputs": []
    },
    {
      "cell_type": "code",
      "metadata": {
        "id": "2Ux3AVCZ49fk",
        "colab_type": "code",
        "colab": {}
      },
      "source": [
        "noise_level = 1.0\n",
        "\n",
        "X = tf.placeholder(tf.float32, shape=[None, n_inputs])\n",
        "X_noisy = X + noise_level * tf.random_normal(tf.shape(X))\n",
        "\n",
        "hidden1 = tf.layers.dense(X_noisy, n_hidden1, activation=tf.nn.relu,\n",
        "                          name=\"hidden1\")\n",
        "hidden2 = tf.layers.dense(hidden1, n_hidden2, activation=tf.nn.relu, # not shown in the book\n",
        "                          name=\"hidden2\")                            # not shown\n",
        "hidden3 = tf.layers.dense(hidden2, n_hidden3, activation=tf.nn.relu, # not shown\n",
        "                          name=\"hidden3\")                            # not shown\n",
        "outputs = tf.layers.dense(hidden3, n_outputs, name=\"outputs\")        # not shown\n",
        "\n",
        "reconstruction_loss = tf.reduce_mean(tf.square(outputs - X)) # MSE"
      ],
      "execution_count": 0,
      "outputs": []
    },
    {
      "cell_type": "code",
      "metadata": {
        "id": "GkXTUbAz5zKS",
        "colab_type": "code",
        "colab": {}
      },
      "source": [
        "optimizer = tf.train.AdamOptimizer(learning_rate)\n",
        "training_op = optimizer.minimize(reconstruction_loss)\n",
        "    \n",
        "init = tf.global_variables_initializer()\n",
        "saver = tf.train.Saver()"
      ],
      "execution_count": 0,
      "outputs": []
    },
    {
      "cell_type": "code",
      "metadata": {
        "id": "HAzWvLPx6ENh",
        "colab_type": "code",
        "colab": {
          "base_uri": "https://localhost:8080/",
          "height": 193
        },
        "outputId": "a873c5e8-96ae-447f-fa26-779345330e90"
      },
      "source": [
        "n_epochs = 10\n",
        "batch_size = 150\n",
        "\n",
        "with tf.Session() as sess:\n",
        "    init.run()\n",
        "    for epoch in range(n_epochs):\n",
        "        n_batches = mnist.train.num_examples // batch_size\n",
        "        for iteration in range(n_batches):\n",
        "            print(\"\\r{}%\".format(100 * iteration // n_batches), end=\"\")\n",
        "            sys.stdout.flush()\n",
        "            X_batch, y_batch = mnist.train.next_batch(batch_size)\n",
        "            sess.run(training_op, feed_dict={X: X_batch})\n",
        "        loss_train = reconstruction_loss.eval(feed_dict={X: X_batch})\n",
        "        print(\"\\r{}\".format(epoch), \"Train MSE:\", loss_train)\n",
        "        saver.save(sess, \"./my_model_stacked_denoising_gaussian.ckpt\")"
      ],
      "execution_count": 41,
      "outputs": [
        {
          "output_type": "stream",
          "text": [
            "0 Train MSE: 0.044239543\n",
            "1 Train MSE: 0.04336647\n",
            "2 Train MSE: 0.041979507\n",
            "3 Train MSE: 0.04130542\n",
            "4 Train MSE: 0.039910562\n",
            "5 Train MSE: 0.039029375\n",
            "6 Train MSE: 0.04008887\n",
            "7 Train MSE: 0.04222675\n",
            "8 Train MSE: 0.03988135\n",
            "9 Train MSE: 0.041052833\n"
          ],
          "name": "stdout"
        }
      ]
    },
    {
      "cell_type": "markdown",
      "metadata": {
        "id": "32kXIvwN6XWP",
        "colab_type": "text"
      },
      "source": [
        "Using dropout"
      ]
    },
    {
      "cell_type": "code",
      "metadata": {
        "id": "l8Yn0Nq36Uat",
        "colab_type": "code",
        "colab": {}
      },
      "source": [
        "reset_graph()\n",
        "\n",
        "n_inputs = 28 * 28\n",
        "n_hidden1 = 300\n",
        "n_hidden2 = 150  # codings\n",
        "n_hidden3 = n_hidden1\n",
        "n_outputs = n_inputs\n",
        "\n",
        "learning_rate = 0.01"
      ],
      "execution_count": 0,
      "outputs": []
    },
    {
      "cell_type": "code",
      "metadata": {
        "id": "dY3tLp9s6pW2",
        "colab_type": "code",
        "colab": {
          "base_uri": "https://localhost:8080/",
          "height": 90
        },
        "outputId": "7d333e80-68c4-4e9e-ad28-ff6ca60c0648"
      },
      "source": [
        "dropout_rate = 0.3\n",
        "\n",
        "training = tf.placeholder_with_default(False, shape=(), name='training')\n",
        "\n",
        "X = tf.placeholder(tf.float32, shape=[None, n_inputs])\n",
        "X_drop = tf.layers.dropout(X, dropout_rate, training=training)\n",
        "\n",
        "hidden1 = tf.layers.dense(X_drop, n_hidden1, activation=tf.nn.relu,\n",
        "                          name=\"hidden1\")\n",
        "hidden2 = tf.layers.dense(hidden1, n_hidden2, activation=tf.nn.relu, # not shown in the book\n",
        "                          name=\"hidden2\")                            # not shown\n",
        "hidden3 = tf.layers.dense(hidden2, n_hidden3, activation=tf.nn.relu, # not shown\n",
        "                          name=\"hidden3\")                            # not shown\n",
        "outputs = tf.layers.dense(hidden3, n_outputs, name=\"outputs\")        # not shown\n",
        "\n",
        "reconstruction_loss = tf.reduce_mean(tf.square(outputs - X)) # MSE"
      ],
      "execution_count": 43,
      "outputs": [
        {
          "output_type": "stream",
          "text": [
            "W0709 08:48:21.429562 140395317376896 deprecation.py:323] From <ipython-input-43-83a198186cec>:6: dropout (from tensorflow.python.layers.core) is deprecated and will be removed in a future version.\n",
            "Instructions for updating:\n",
            "Use keras.layers.dropout instead.\n"
          ],
          "name": "stderr"
        }
      ]
    },
    {
      "cell_type": "code",
      "metadata": {
        "id": "3yWCYMY_66eV",
        "colab_type": "code",
        "colab": {}
      },
      "source": [
        "optimizer = tf.train.AdamOptimizer(learning_rate)\n",
        "training_op = optimizer.minimize(reconstruction_loss)\n",
        "    \n",
        "init = tf.global_variables_initializer()\n",
        "saver = tf.train.Saver()"
      ],
      "execution_count": 0,
      "outputs": []
    },
    {
      "cell_type": "code",
      "metadata": {
        "id": "4_6e14T469Zb",
        "colab_type": "code",
        "colab": {
          "base_uri": "https://localhost:8080/",
          "height": 193
        },
        "outputId": "072772ad-1b36-4dbf-b9c7-65f6801646a3"
      },
      "source": [
        "n_epochs = 10\n",
        "batch_size = 150\n",
        "\n",
        "with tf.Session() as sess:\n",
        "    init.run()\n",
        "    for epoch in range(n_epochs):\n",
        "        n_batches = mnist.train.num_examples // batch_size\n",
        "        for iteration in range(n_batches):\n",
        "            print(\"\\r{}%\".format(100 * iteration // n_batches), end=\"\")\n",
        "            sys.stdout.flush()\n",
        "            X_batch, y_batch = mnist.train.next_batch(batch_size)\n",
        "            sess.run(training_op, feed_dict={X: X_batch, training: True})\n",
        "        loss_train = reconstruction_loss.eval(feed_dict={X: X_batch})\n",
        "        print(\"\\r{}\".format(epoch), \"Train MSE:\", loss_train)\n",
        "        saver.save(sess, \"./my_model_stacked_denoising_dropout.ckpt\")"
      ],
      "execution_count": 45,
      "outputs": [
        {
          "output_type": "stream",
          "text": [
            "0 Train MSE: 0.024852928\n",
            "1 Train MSE: 0.024427598\n",
            "2 Train MSE: 0.022621235\n",
            "3 Train MSE: 0.023329845\n",
            "4 Train MSE: 0.023003777\n",
            "5 Train MSE: 0.02362618\n",
            "6 Train MSE: 0.022319132\n",
            "7 Train MSE: 0.02316442\n",
            "8 Train MSE: 0.02214649\n",
            "9 Train MSE: 0.021972204\n"
          ],
          "name": "stdout"
        }
      ]
    },
    {
      "cell_type": "code",
      "metadata": {
        "id": "B78PeV6T7PGF",
        "colab_type": "code",
        "colab": {
          "base_uri": "https://localhost:8080/",
          "height": 379
        },
        "outputId": "a580402a-7626-482c-a342-04c069340a7b"
      },
      "source": [
        "show_reconstructed_digits(X, outputs, \"./my_model_stacked_denoising_dropout.ckpt\")"
      ],
      "execution_count": 46,
      "outputs": [
        {
          "output_type": "display_data",
          "data": {
            "image/png": "[encoded data removed]",
            "text/plain": [
              "<Figure size 576x432 with 4 Axes>"
            ]
          },
          "metadata": {
            "tags": []
          }
        }
      ]
    },
    {
      "cell_type": "markdown",
      "metadata": {
        "id": "hzFA0R-37S7G",
        "colab_type": "text"
      },
      "source": [
        "**Sparse Autoencoder**"
      ]
    },
    {
      "cell_type": "code",
      "metadata": {
        "id": "JOHYt2rc7V3D",
        "colab_type": "code",
        "colab": {
          "base_uri": "https://localhost:8080/",
          "height": 314
        },
        "outputId": "62f01985-d113-482c-d03f-3c98c21a4fe1"
      },
      "source": [
        "p = 0.1\n",
        "q = np.linspace(0.001, 0.999, 500)\n",
        "kl_div = p * np.log(p / q) + (1 - p) * np.log((1 - p) / (1 - q))\n",
        "mse = (p - q)**2\n",
        "plt.plot([p, p], [0, 0.3], \"k:\")\n",
        "plt.text(0.05, 0.32, \"Target\\nsparsity\", fontsize=14)\n",
        "plt.plot(q, kl_div, \"b-\", label=\"KL divergence\")\n",
        "plt.plot(q, mse, \"r--\", label=\"MSE\")\n",
        "plt.legend(loc=\"upper left\")\n",
        "plt.xlabel(\"Actual sparsity\")\n",
        "plt.ylabel(\"Cost\", rotation=0)\n",
        "plt.axis([0, 1, 0, 0.95])\n",
        "save_fig(\"sparsity_loss_plot\")"
      ],
      "execution_count": 47,
      "outputs": [
        {
          "output_type": "stream",
          "text": [
            "Saving figure sparsity_loss_plot\n"
          ],
          "name": "stdout"
        },
        {
          "output_type": "display_data",
          "data": {
            "image/png": "[encoded data removed]",
            "text/plain": [
              "<Figure size 432x288 with 1 Axes>"
            ]
          },
          "metadata": {
            "tags": []
          }
        }
      ]
    },
    {
      "cell_type": "code",
      "metadata": {
        "id": "sw01nnYd9d8s",
        "colab_type": "code",
        "colab": {}
      },
      "source": [
        "reset_graph()\n",
        "\n",
        "n_inputs = 28 * 28\n",
        "n_hidden1 = 1000  # sparse codings\n",
        "n_outputs = n_inputs"
      ],
      "execution_count": 0,
      "outputs": []
    },
    {
      "cell_type": "code",
      "metadata": {
        "id": "paSL94ht9iMp",
        "colab_type": "code",
        "colab": {}
      },
      "source": [
        "def kl_divergence(p, q):\n",
        "    # Kullback Leibler divergence\n",
        "    return p * tf.log(p / q) + (1 - p) * tf.log((1 - p) / (1 - q))\n",
        "\n",
        "learning_rate = 0.01\n",
        "sparsity_target = 0.1\n",
        "sparsity_weight = 0.2\n",
        "\n",
        "X = tf.placeholder(tf.float32, shape=[None, n_inputs])            # not shown in the book\n",
        "\n",
        "hidden1 = tf.layers.dense(X, n_hidden1, activation=tf.nn.sigmoid) # not shown\n",
        "outputs = tf.layers.dense(hidden1, n_outputs) \n",
        "\n",
        "hidden1_mean = tf.reduce_mean(hidden1, axis=0) # batch mean\n",
        "sparsity_loss = tf.reduce_sum(kl_divergence(sparsity_target, hidden1_mean))\n",
        "reconstruction_loss = tf.reduce_mean(tf.square(outputs - X)) # MSE\n",
        "\n",
        "loss = reconstruction_loss + sparsity_weight * sparsity_loss\n",
        "optimizer = tf.train.AdamOptimizer(learning_rate)\n",
        "training_op = optimizer.minimize(loss)"
      ],
      "execution_count": 0,
      "outputs": []
    },
    {
      "cell_type": "code",
      "metadata": {
        "id": "Gq5ycRd2_TG0",
        "colab_type": "code",
        "colab": {}
      },
      "source": [
        "init = tf.global_variables_initializer()\n",
        "saver = tf.train.Saver()"
      ],
      "execution_count": 0,
      "outputs": []
    },
    {
      "cell_type": "code",
      "metadata": {
        "id": "e5cLy21c_WHI",
        "colab_type": "code",
        "colab": {
          "base_uri": "https://localhost:8080/",
          "height": 1000
        },
        "outputId": "3c96217e-d717-4b22-c8e8-8508f36cd838"
      },
      "source": [
        "n_epochs = 100\n",
        "batch_size = 1000\n",
        "\n",
        "with tf.Session() as sess:\n",
        "    init.run()\n",
        "    for epoch in range(n_epochs):\n",
        "        n_batches = mnist.train.num_examples // batch_size\n",
        "        for iteration in range(n_batches):\n",
        "            print(\"\\r{}%\".format(100 * iteration // n_batches), end=\"\")\n",
        "            sys.stdout.flush()\n",
        "            X_batch, y_batch = mnist.train.next_batch(batch_size)\n",
        "            sess.run(training_op, feed_dict={X: X_batch})\n",
        "        reconstruction_loss_val, sparsity_loss_val, loss_val = sess.run([reconstruction_loss, sparsity_loss, loss], feed_dict={X: X_batch})\n",
        "        print(\"\\r{}\".format(epoch), \"Train MSE:\", reconstruction_loss_val, \"\\tSparsity loss:\", sparsity_loss_val, \"\\tTotal loss:\", loss_val)\n",
        "        saver.save(sess, \"./my_model_sparse.ckpt\")"
      ],
      "execution_count": 52,
      "outputs": [
        {
          "output_type": "stream",
          "text": [
            "0 Train MSE: 0.13819477 \tSparsity loss: 0.41844395 \tTotal loss: 0.22188357\n",
            "1 Train MSE: 0.059185907 \tSparsity loss: 0.010748285 \tTotal loss: 0.061335564\n",
            "2 Train MSE: 0.053931113 \tSparsity loss: 0.019957885 \tTotal loss: 0.05792269\n",
            "3 Train MSE: 0.04771372 \tSparsity loss: 0.03947153 \tTotal loss: 0.055608027\n",
            "4 Train MSE: 0.044841796 \tSparsity loss: 0.011592348 \tTotal loss: 0.047160264\n",
            "5 Train MSE: 0.04044193 \tSparsity loss: 0.09247011 \tTotal loss: 0.058935955\n",
            "6 Train MSE: 0.03886659 \tSparsity loss: 0.04581185 \tTotal loss: 0.04802896\n",
            "7 Train MSE: 0.037868652 \tSparsity loss: 0.07498133 \tTotal loss: 0.05286492\n",
            "8 Train MSE: 0.033122517 \tSparsity loss: 0.02032248 \tTotal loss: 0.037187014\n",
            "9 Train MSE: 0.031449176 \tSparsity loss: 0.095669836 \tTotal loss: 0.050583147\n",
            "10 Train MSE: 0.027398113 \tSparsity loss: 0.06570651 \tTotal loss: 0.040539414\n",
            "11 Train MSE: 0.024734963 \tSparsity loss: 0.08889231 \tTotal loss: 0.042513423\n",
            "12 Train MSE: 0.023367295 \tSparsity loss: 0.057662044 \tTotal loss: 0.034899704\n",
            "13 Train MSE: 0.023007905 \tSparsity loss: 0.061934646 \tTotal loss: 0.035394832\n",
            "14 Train MSE: 0.021233533 \tSparsity loss: 0.025882352 \tTotal loss: 0.026410002\n",
            "15 Train MSE: 0.022064691 \tSparsity loss: 0.48820588 \tTotal loss: 0.11970587\n",
            "16 Train MSE: 0.01910253 \tSparsity loss: 0.032202777 \tTotal loss: 0.025543086\n",
            "17 Train MSE: 0.018982193 \tSparsity loss: 0.12995198 \tTotal loss: 0.04497259\n",
            "18 Train MSE: 0.017487913 \tSparsity loss: 0.035002388 \tTotal loss: 0.024488391\n",
            "19 Train MSE: 0.017776337 \tSparsity loss: 0.110246144 \tTotal loss: 0.039825566\n",
            "20 Train MSE: 0.016910141 \tSparsity loss: 0.030319996 \tTotal loss: 0.022974141\n",
            "21 Train MSE: 0.018679727 \tSparsity loss: 0.36376658 \tTotal loss: 0.09143305\n",
            "22 Train MSE: 0.016285755 \tSparsity loss: 0.05548262 \tTotal loss: 0.027382279\n",
            "23 Train MSE: 0.015950203 \tSparsity loss: 0.07936628 \tTotal loss: 0.03182346\n",
            "24 Train MSE: 0.015672015 \tSparsity loss: 0.14289384 \tTotal loss: 0.044250783\n",
            "25 Train MSE: 0.014612303 \tSparsity loss: 0.1333065 \tTotal loss: 0.041273605\n",
            "26 Train MSE: 0.014524785 \tSparsity loss: 0.109481305 \tTotal loss: 0.036421046\n",
            "27 Train MSE: 0.013598451 \tSparsity loss: 0.07208201 \tTotal loss: 0.028014854\n",
            "28 Train MSE: 0.0140698515 \tSparsity loss: 0.15789613 \tTotal loss: 0.045649078\n",
            "29 Train MSE: 0.01344161 \tSparsity loss: 0.14449255 \tTotal loss: 0.042340122\n",
            "30 Train MSE: 0.013608932 \tSparsity loss: 0.18507197 \tTotal loss: 0.050623327\n",
            "31 Train MSE: 0.014197284 \tSparsity loss: 0.06788767 \tTotal loss: 0.027774818\n",
            "32 Train MSE: 0.013759442 \tSparsity loss: 0.057575583 \tTotal loss: 0.02527456\n",
            "33 Train MSE: 0.013667368 \tSparsity loss: 0.11363429 \tTotal loss: 0.036394227\n",
            "34 Train MSE: 0.012646971 \tSparsity loss: 0.13469441 \tTotal loss: 0.039585855\n",
            "35 Train MSE: 0.012872865 \tSparsity loss: 0.1685065 \tTotal loss: 0.046574168\n",
            "36 Train MSE: 0.012669471 \tSparsity loss: 0.09313173 \tTotal loss: 0.031295817\n",
            "37 Train MSE: 0.012427664 \tSparsity loss: 0.10538826 \tTotal loss: 0.033505317\n",
            "38 Train MSE: 0.012336045 \tSparsity loss: 0.19235793 \tTotal loss: 0.050807633\n",
            "39 Train MSE: 0.012337875 \tSparsity loss: 0.1423178 \tTotal loss: 0.040801436\n",
            "40 Train MSE: 0.012626294 \tSparsity loss: 0.23267311 \tTotal loss: 0.059160918\n",
            "41 Train MSE: 0.012383054 \tSparsity loss: 0.10489436 \tTotal loss: 0.033361927\n",
            "42 Train MSE: 0.01178114 \tSparsity loss: 0.10161319 \tTotal loss: 0.032103777\n",
            "43 Train MSE: 0.012044065 \tSparsity loss: 0.13593884 \tTotal loss: 0.039231833\n",
            "44 Train MSE: 0.0116208745 \tSparsity loss: 0.114728324 \tTotal loss: 0.03456654\n",
            "45 Train MSE: 0.011668784 \tSparsity loss: 0.15798119 \tTotal loss: 0.043265022\n",
            "46 Train MSE: 0.0116699105 \tSparsity loss: 0.13549486 \tTotal loss: 0.038768884\n",
            "47 Train MSE: 0.011548611 \tSparsity loss: 0.15662222 \tTotal loss: 0.042873055\n",
            "48 Train MSE: 0.011821299 \tSparsity loss: 0.44308245 \tTotal loss: 0.10043779\n",
            "49 Train MSE: 0.011563117 \tSparsity loss: 0.17583254 \tTotal loss: 0.046729624\n",
            "50 Train MSE: 0.01135988 \tSparsity loss: 0.18883306 \tTotal loss: 0.04912649\n",
            "51 Train MSE: 0.011538652 \tSparsity loss: 0.26336917 \tTotal loss: 0.064212486\n",
            "52 Train MSE: 0.012042572 \tSparsity loss: 0.367583 \tTotal loss: 0.085559174\n",
            "53 Train MSE: 0.0112388665 \tSparsity loss: 0.12488058 \tTotal loss: 0.036214985\n",
            "54 Train MSE: 0.013947795 \tSparsity loss: 0.43319586 \tTotal loss: 0.100586966\n",
            "55 Train MSE: 0.0127706425 \tSparsity loss: 0.0772071 \tTotal loss: 0.028212063\n",
            "56 Train MSE: 0.012212261 \tSparsity loss: 0.30133787 \tTotal loss: 0.07247984\n",
            "57 Train MSE: 0.012793905 \tSparsity loss: 0.2482622 \tTotal loss: 0.062446345\n",
            "58 Train MSE: 0.023298157 \tSparsity loss: 0.23235628 \tTotal loss: 0.06976941\n",
            "59 Train MSE: 0.0131875165 \tSparsity loss: 0.19818732 \tTotal loss: 0.05282498\n",
            "60 Train MSE: 0.019469732 \tSparsity loss: 0.19416206 \tTotal loss: 0.05830214\n",
            "61 Train MSE: 0.012947898 \tSparsity loss: 0.22916903 \tTotal loss: 0.058781706\n",
            "62 Train MSE: 0.014042865 \tSparsity loss: 0.47962984 \tTotal loss: 0.10996883\n",
            "63 Train MSE: 0.014319432 \tSparsity loss: 0.33436605 \tTotal loss: 0.08119265\n",
            "64 Train MSE: 0.011926364 \tSparsity loss: 0.17801678 \tTotal loss: 0.04752972\n",
            "65 Train MSE: 0.016372584 \tSparsity loss: 0.18555 \tTotal loss: 0.053482585\n",
            "66 Train MSE: 0.01530345 \tSparsity loss: 0.9842904 \tTotal loss: 0.21216154\n",
            "67 Train MSE: 0.03529247 \tSparsity loss: 0.31147385 \tTotal loss: 0.09758724\n",
            "68 Train MSE: 0.015944315 \tSparsity loss: 0.21871787 \tTotal loss: 0.05968789\n",
            "69 Train MSE: 0.012875011 \tSparsity loss: 0.4399882 \tTotal loss: 0.10087265\n",
            "70 Train MSE: 0.043371152 \tSparsity loss: 0.74531764 \tTotal loss: 0.19243468\n",
            "71 Train MSE: 0.0146540785 \tSparsity loss: 0.24275124 \tTotal loss: 0.063204326\n",
            "72 Train MSE: 0.016381096 \tSparsity loss: 0.8000775 \tTotal loss: 0.17639661\n",
            "73 Train MSE: 0.01397218 \tSparsity loss: 0.31674665 \tTotal loss: 0.07732151\n",
            "74 Train MSE: 0.036516037 \tSparsity loss: 0.324429 \tTotal loss: 0.101401836\n",
            "75 Train MSE: 0.037783563 \tSparsity loss: 0.511916 \tTotal loss: 0.14016676\n",
            "76 Train MSE: 0.019572249 \tSparsity loss: 0.20075624 \tTotal loss: 0.059723496\n",
            "77 Train MSE: 0.020032397 \tSparsity loss: 0.3096107 \tTotal loss: 0.08195454\n",
            "78 Train MSE: 0.01670271 \tSparsity loss: 0.5341047 \tTotal loss: 0.12352365\n",
            "79 Train MSE: 0.019805184 \tSparsity loss: 0.4231283 \tTotal loss: 0.10443085\n",
            "80 Train MSE: 0.01631497 \tSparsity loss: 0.11706394 \tTotal loss: 0.03972776\n",
            "81 Train MSE: 0.012620972 \tSparsity loss: 0.87866896 \tTotal loss: 0.18835476\n",
            "82 Train MSE: 0.016116569 \tSparsity loss: 2.137399 \tTotal loss: 0.44359636\n",
            "83 Train MSE: 0.014163658 \tSparsity loss: 0.66220766 \tTotal loss: 0.1466052\n",
            "84 Train MSE: 0.014828362 \tSparsity loss: 0.27069426 \tTotal loss: 0.06896721\n",
            "85 Train MSE: 0.02618534 \tSparsity loss: 0.9366439 \tTotal loss: 0.21351412\n",
            "86 Train MSE: 0.015600864 \tSparsity loss: 0.68468183 \tTotal loss: 0.15253723\n",
            "87 Train MSE: 0.01221798 \tSparsity loss: 1.4176724 \tTotal loss: 0.29575247\n",
            "88 Train MSE: 0.020342609 \tSparsity loss: 0.8588982 \tTotal loss: 0.19212225\n",
            "89 Train MSE: 0.028267577 \tSparsity loss: 0.29462367 \tTotal loss: 0.08719231\n",
            "90 Train MSE: 0.028554434 \tSparsity loss: 0.46106225 \tTotal loss: 0.120766886\n",
            "91 Train MSE: 0.014679391 \tSparsity loss: 0.09923676 \tTotal loss: 0.034526743\n",
            "92 Train MSE: 0.014408325 \tSparsity loss: 0.38845983 \tTotal loss: 0.09210029\n",
            "93 Train MSE: 0.015600129 \tSparsity loss: 0.16150379 \tTotal loss: 0.04790089\n",
            "94 Train MSE: 0.012098784 \tSparsity loss: 0.1168327 \tTotal loss: 0.035465322\n",
            "95 Train MSE: 0.014560522 \tSparsity loss: 0.102812156 \tTotal loss: 0.035122953\n",
            "96 Train MSE: 0.019096605 \tSparsity loss: 0.23772919 \tTotal loss: 0.06664245\n",
            "97 Train MSE: 0.013592136 \tSparsity loss: 0.1090203 \tTotal loss: 0.035396196\n",
            "98 Train MSE: 0.013720523 \tSparsity loss: 0.08901752 \tTotal loss: 0.031524025\n",
            "99 Train MSE: 0.025133131 \tSparsity loss: 0.33297563 \tTotal loss: 0.09172826\n"
          ],
          "name": "stdout"
        }
      ]
    },
    {
      "cell_type": "code",
      "metadata": {
        "id": "tP5t91_JAev0",
        "colab_type": "code",
        "colab": {
          "base_uri": "https://localhost:8080/",
          "height": 379
        },
        "outputId": "d639cb04-0f68-4250-ba08-f2cc651c2df7"
      },
      "source": [
        "show_reconstructed_digits(X, outputs, \"./my_model_sparse.ckpt\")"
      ],
      "execution_count": 53,
      "outputs": [
        {
          "output_type": "display_data",
          "data": {
            "image/png": "[encoded data removed]",
            "text/plain": [
              "<Figure size 576x432 with 4 Axes>"
            ]
          },
          "metadata": {
            "tags": []
          }
        }
      ]
    },
    {
      "cell_type": "markdown",
      "metadata": {
        "id": "zSjbH1MGBIf2",
        "colab_type": "text"
      },
      "source": [
        "Note that the coding layer must output values from 0 to 1, which is why we use the sigmoid activation function:"
      ]
    },
    {
      "cell_type": "code",
      "metadata": {
        "id": "SzzVrb4SBBoI",
        "colab_type": "code",
        "colab": {}
      },
      "source": [
        "hidden1 = tf.layers.dense(X, n_hidden1, activation=tf.nn.sigmoid)"
      ],
      "execution_count": 0,
      "outputs": []
    },
    {
      "cell_type": "markdown",
      "metadata": {
        "id": "SJih4-MYB9U_",
        "colab_type": "text"
      },
      "source": [
        "To speed up training, you can normalize the inputs between 0 and 1, and use the cross entropy instead of the MSE for the cost function:"
      ]
    },
    {
      "cell_type": "code",
      "metadata": {
        "id": "PXPG--nRCSa3",
        "colab_type": "code",
        "colab": {
          "base_uri": "https://localhost:8080/",
          "height": 90
        },
        "outputId": "78270c6c-883b-4c11-fdb5-4e5ba35726e6"
      },
      "source": [
        "logits = tf.layers.dense(hidden1, n_outputs)\n",
        "outputs = tf.nn.sigmoid(logits)\n",
        "\n",
        "xentropy = tf.nn.sigmoid_cross_entropy_with_logits(labels=X, logits=logits)\n",
        "reconstruction_loss = tf.reduce_mean(xentropy)"
      ],
      "execution_count": 55,
      "outputs": [
        {
          "output_type": "stream",
          "text": [
            "W0709 09:21:42.043015 140395317376896 deprecation.py:323] From /usr/local/lib/python3.6/dist-packages/tensorflow/python/ops/nn_impl.py:180: add_dispatch_support.<locals>.wrapper (from tensorflow.python.ops.array_ops) is deprecated and will be removed in a future version.\n",
            "Instructions for updating:\n",
            "Use tf.where in 2.0, which has the same broadcast rule as np.where\n"
          ],
          "name": "stderr"
        }
      ]
    },
    {
      "cell_type": "markdown",
      "metadata": {
        "id": "kQ7SJm2BCk-S",
        "colab_type": "text"
      },
      "source": [
        "**Variational Autoencoder**"
      ]
    },
    {
      "cell_type": "code",
      "metadata": {
        "id": "RbnJyYVmCnUR",
        "colab_type": "code",
        "colab": {}
      },
      "source": [
        "reset_graph()\n",
        "\n",
        "from functools import partial\n",
        "\n",
        "n_inputs = 28 * 28\n",
        "n_hidden1 = 500\n",
        "n_hidden2 = 500\n",
        "n_hidden3 = 20  # codings\n",
        "n_hidden4 = n_hidden2\n",
        "n_hidden5 = n_hidden1\n",
        "n_outputs = n_inputs\n",
        "learning_rate = 0.001\n",
        "\n",
        "initializer = tf.contrib.layers.variance_scaling_initializer()\n",
        "\n",
        "my_dense_layer = partial(\n",
        "    tf.layers.dense,\n",
        "    activation=tf.nn.elu,\n",
        "    kernel_initializer=initializer)\n",
        "\n",
        "X = tf.placeholder(tf.float32, [None, n_inputs])\n",
        "hidden1 = my_dense_layer(X, n_hidden1)\n",
        "hidden2 = my_dense_layer(hidden1, n_hidden2)\n",
        "hidden3_mean = my_dense_layer(hidden2, n_hidden3, activation=None)# change\n",
        "hidden3_sigma = my_dense_layer(hidden2, n_hidden3, activation=None)# change\n",
        "noise = tf.random_normal(tf.shape(hidden3_sigma), dtype=tf.float32)\n",
        "hidden3 = hidden3_mean + hidden3_sigma * noise\n",
        "hidden4 = my_dense_layer(hidden3, n_hidden4)\n",
        "hidden5 = my_dense_layer(hidden4, n_hidden5)\n",
        "logits = my_dense_layer(hidden5, n_outputs, activation=None)\n",
        "outputs = tf.sigmoid(logits)\n",
        "\n",
        "xentropy = tf.nn.sigmoid_cross_entropy_with_logits(labels=X, logits=logits)\n",
        "reconstruction_loss = tf.reduce_sum(xentropy)"
      ],
      "execution_count": 0,
      "outputs": []
    },
    {
      "cell_type": "code",
      "metadata": {
        "id": "XHaTu5J5FO-j",
        "colab_type": "code",
        "colab": {}
      },
      "source": [
        "eps = 1e-10 # smoothing term to avoid computing log(0) which is NaN\n",
        "latent_loss = 0.5 * tf.reduce_sum(\n",
        "    tf.square(hidden3_sigma) + tf.square(hidden3_mean)\n",
        "    - 1 - tf.log(eps + tf.square(hidden3_sigma)))"
      ],
      "execution_count": 0,
      "outputs": []
    },
    {
      "cell_type": "code",
      "metadata": {
        "id": "zykT1oirGFnQ",
        "colab_type": "code",
        "colab": {}
      },
      "source": [
        "loss = reconstruction_loss + latent_loss\n",
        "\n",
        "optimizer = tf.train.AdamOptimizer(learning_rate=learning_rate)\n",
        "training_op = optimizer.minimize(loss)\n",
        "\n",
        "init = tf.global_variables_initializer()\n",
        "saver = tf.train.Saver()"
      ],
      "execution_count": 0,
      "outputs": []
    },
    {
      "cell_type": "code",
      "metadata": {
        "id": "NVjeOPUXGKkU",
        "colab_type": "code",
        "colab": {
          "base_uri": "https://localhost:8080/",
          "height": 896
        },
        "outputId": "e71c2e44-b3c0-49de-8903-e85319c8fd90"
      },
      "source": [
        "n_epochs = 50\n",
        "batch_size = 150\n",
        "\n",
        "with tf.Session() as sess:\n",
        "    init.run()\n",
        "    for epoch in range(n_epochs):\n",
        "        n_batches = mnist.train.num_examples // batch_size\n",
        "        for iteration in range(n_batches):\n",
        "            print(\"\\r{}%\".format(100 * iteration // n_batches), end=\"\")\n",
        "            sys.stdout.flush()\n",
        "            X_batch, y_batch = mnist.train.next_batch(batch_size)\n",
        "            sess.run(training_op, feed_dict={X: X_batch})\n",
        "        loss_val, reconstruction_loss_val, latent_loss_val = sess.run([loss, reconstruction_loss, latent_loss], feed_dict={X: X_batch})\n",
        "        print(\"\\r{}\".format(epoch), \"Train total loss:\", loss_val, \"\\tReconstruction loss:\", reconstruction_loss_val, \"\\tLatent loss:\", latent_loss_val)\n",
        "        saver.save(sess, \"./my_model_variational.ckpt\")"
      ],
      "execution_count": 59,
      "outputs": [
        {
          "output_type": "stream",
          "text": [
            "0 Train total loss: 29376.643 \tReconstruction loss: 23321.176 \tLatent loss: 6055.467\n",
            "1 Train total loss: 30840.932 \tReconstruction loss: 23197.957 \tLatent loss: 7642.9746\n",
            "2 Train total loss: 31318.582 \tReconstruction loss: 23413.875 \tLatent loss: 7904.706\n",
            "3 Train total loss: 27269.908 \tReconstruction loss: 21461.145 \tLatent loss: 5808.763\n",
            "4 Train total loss: 26619.293 \tReconstruction loss: 21182.148 \tLatent loss: 5437.1436\n",
            "5 Train total loss: 30911.766 \tReconstruction loss: 22127.324 \tLatent loss: 8784.441\n",
            "6 Train total loss: 26986.523 \tReconstruction loss: 20751.385 \tLatent loss: 6235.138\n",
            "7 Train total loss: 23131.469 \tReconstruction loss: 19034.32 \tLatent loss: 4097.149\n",
            "8 Train total loss: 17661.94 \tReconstruction loss: 14625.92 \tLatent loss: 3036.0188\n",
            "9 Train total loss: 17618.262 \tReconstruction loss: 14570.09 \tLatent loss: 3048.1711\n",
            "10 Train total loss: 16847.69 \tReconstruction loss: 13738.67 \tLatent loss: 3109.02\n",
            "11 Train total loss: 16267.967 \tReconstruction loss: 13170.489 \tLatent loss: 3097.4778\n",
            "12 Train total loss: 16549.062 \tReconstruction loss: 13371.434 \tLatent loss: 3177.6287\n",
            "13 Train total loss: 16356.388 \tReconstruction loss: 13131.598 \tLatent loss: 3224.79\n",
            "14 Train total loss: 16759.646 \tReconstruction loss: 13552.779 \tLatent loss: 3206.8667\n",
            "15 Train total loss: 17156.725 \tReconstruction loss: 13861.125 \tLatent loss: 3295.6\n",
            "16 Train total loss: 17062.219 \tReconstruction loss: 13806.927 \tLatent loss: 3255.2915\n",
            "17 Train total loss: 16567.875 \tReconstruction loss: 13226.849 \tLatent loss: 3341.0264\n",
            "18 Train total loss: 18101.555 \tReconstruction loss: 14715.674 \tLatent loss: 3385.8813\n",
            "19 Train total loss: 16443.477 \tReconstruction loss: 13159.463 \tLatent loss: 3284.0132\n",
            "20 Train total loss: 15645.161 \tReconstruction loss: 12396.605 \tLatent loss: 3248.556\n",
            "21 Train total loss: 17583.244 \tReconstruction loss: 14190.766 \tLatent loss: 3392.4792\n",
            "22 Train total loss: 39014.203 \tReconstruction loss: 26914.994 \tLatent loss: 12099.211\n",
            "23 Train total loss: 45319.324 \tReconstruction loss: 30908.74 \tLatent loss: 14410.585\n",
            "24 Train total loss: 25338.188 \tReconstruction loss: 20440.41 \tLatent loss: 4897.7764\n",
            "25 Train total loss: 26420.926 \tReconstruction loss: 20896.29 \tLatent loss: 5524.6367\n",
            "26 Train total loss: 22549.549 \tReconstruction loss: 18137.023 \tLatent loss: 4412.525\n",
            "27 Train total loss: 25189.785 \tReconstruction loss: 19021.492 \tLatent loss: 6168.292\n",
            "28 Train total loss: 18153.213 \tReconstruction loss: 14724.388 \tLatent loss: 3428.8247\n",
            "29 Train total loss: 23167.506 \tReconstruction loss: 17212.105 \tLatent loss: 5955.4\n",
            "30 Train total loss: 17266.79 \tReconstruction loss: 13946.404 \tLatent loss: 3320.3855\n",
            "31 Train total loss: 16108.976 \tReconstruction loss: 12950.322 \tLatent loss: 3158.6533\n",
            "32 Train total loss: 15788.268 \tReconstruction loss: 12562.756 \tLatent loss: 3225.512\n",
            "33 Train total loss: 15987.827 \tReconstruction loss: 12721.264 \tLatent loss: 3266.5637\n",
            "34 Train total loss: 15538.467 \tReconstruction loss: 12351.496 \tLatent loss: 3186.9702\n",
            "35 Train total loss: 15695.41 \tReconstruction loss: 12203.93 \tLatent loss: 3491.481\n",
            "36 Train total loss: 16778.969 \tReconstruction loss: 13346.115 \tLatent loss: 3432.8535\n",
            "37 Train total loss: 17214.504 \tReconstruction loss: 13613.604 \tLatent loss: 3600.9006\n",
            "38 Train total loss: 17845.348 \tReconstruction loss: 14720.576 \tLatent loss: 3124.7708\n",
            "39 Train total loss: 16622.887 \tReconstruction loss: 13194.885 \tLatent loss: 3428.0015\n",
            "40 Train total loss: 15306.069 \tReconstruction loss: 12058.242 \tLatent loss: 3247.8271\n",
            "41 Train total loss: 15623.266 \tReconstruction loss: 12181.209 \tLatent loss: 3442.0571\n",
            "42 Train total loss: 15929.004 \tReconstruction loss: 12449.296 \tLatent loss: 3479.7085\n",
            "43 Train total loss: 15310.515 \tReconstruction loss: 12024.54 \tLatent loss: 3285.9746\n",
            "44 Train total loss: 16277.568 \tReconstruction loss: 12991.303 \tLatent loss: 3286.2651\n",
            "45 Train total loss: 15867.769 \tReconstruction loss: 12214.106 \tLatent loss: 3653.662\n",
            "46 Train total loss: 17753.873 \tReconstruction loss: 14136.236 \tLatent loss: 3617.6367\n",
            "47 Train total loss: 17250.045 \tReconstruction loss: 13577.477 \tLatent loss: 3672.5676\n",
            "48 Train total loss: 15326.825 \tReconstruction loss: 12052.746 \tLatent loss: 3274.0789\n",
            "49 Train total loss: 15193.355 \tReconstruction loss: 11706.075 \tLatent loss: 3487.2798\n"
          ],
          "name": "stdout"
        }
      ]
    },
    {
      "cell_type": "markdown",
      "metadata": {
        "id": "ORRwKCp4Himz",
        "colab_type": "text"
      },
      "source": [
        "**Generate digits**"
      ]
    },
    {
      "cell_type": "code",
      "metadata": {
        "id": "6br27o9wHoOb",
        "colab_type": "code",
        "colab": {}
      },
      "source": [
        "reset_graph()\n",
        "\n",
        "from functools import partial\n",
        "\n",
        "n_inputs = 28 * 28\n",
        "n_hidden1 = 500\n",
        "n_hidden2 = 500\n",
        "n_hidden3 = 20  # codings\n",
        "n_hidden4 = n_hidden2\n",
        "n_hidden5 = n_hidden1\n",
        "n_outputs = n_inputs\n",
        "learning_rate = 0.001\n",
        "\n",
        "initializer = tf.contrib.layers.variance_scaling_initializer()\n",
        "my_dense_layer = partial(\n",
        "    tf.layers.dense,\n",
        "    activation=tf.nn.elu,\n",
        "    kernel_initializer=initializer)\n",
        "\n",
        "X = tf.placeholder(tf.float32, [None, n_inputs])\n",
        "hidden1 = my_dense_layer(X, n_hidden1)\n",
        "hidden2 = my_dense_layer(hidden1, n_hidden2)\n",
        "hidden3_mean = my_dense_layer(hidden2, n_hidden3, activation=None)\n",
        "hidden3_gamma = my_dense_layer(hidden2, n_hidden3, activation=None)\n",
        "noise = tf.random_normal(tf.shape(hidden3_gamma), dtype=tf.float32)\n",
        "hidden3 = hidden3_mean + tf.exp(0.5 * hidden3_gamma) * noise # change\n",
        "hidden4 = my_dense_layer(hidden3, n_hidden4)\n",
        "hidden5 = my_dense_layer(hidden4, n_hidden5)\n",
        "logits = my_dense_layer(hidden5, n_outputs, activation=None)\n",
        "outputs = tf.sigmoid(logits)\n",
        "\n",
        "xentropy = tf.nn.sigmoid_cross_entropy_with_logits(labels=X, logits=logits)\n",
        "reconstruction_loss = tf.reduce_sum(xentropy)\n",
        "latent_loss = 0.5 * tf.reduce_sum(\n",
        "    tf.exp(hidden3_gamma) + tf.square(hidden3_mean) - 1 - hidden3_gamma)\n",
        "loss = reconstruction_loss + latent_loss\n",
        "\n",
        "optimizer = tf.train.AdamOptimizer(learning_rate=learning_rate)\n",
        "training_op = optimizer.minimize(loss)\n",
        "\n",
        "init = tf.global_variables_initializer()\n",
        "saver = tf.train.Saver()"
      ],
      "execution_count": 0,
      "outputs": []
    },
    {
      "cell_type": "code",
      "metadata": {
        "id": "8mu2-yndHztE",
        "colab_type": "code",
        "colab": {
          "base_uri": "https://localhost:8080/",
          "height": 896
        },
        "outputId": "f126ae11-f423-40e5-d138-25b74bb6579d"
      },
      "source": [
        "import numpy as np\n",
        "\n",
        "n_digits = 60\n",
        "n_epochs = 50\n",
        "batch_size = 150\n",
        "\n",
        "with tf.Session() as sess:\n",
        "    init.run()\n",
        "    for epoch in range(n_epochs):\n",
        "        n_batches = mnist.train.num_examples // batch_size\n",
        "        for iteration in range(n_batches):\n",
        "            print(\"\\r{}%\".format(100 * iteration // n_batches), end=\"\") # not shown in the book\n",
        "            sys.stdout.flush()                                          # not shown\n",
        "            X_batch, y_batch = mnist.train.next_batch(batch_size)\n",
        "            sess.run(training_op, feed_dict={X: X_batch})\n",
        "        loss_val, reconstruction_loss_val, latent_loss_val = sess.run([loss, reconstruction_loss, latent_loss], feed_dict={X: X_batch}) # not shown\n",
        "        print(\"\\r{}\".format(epoch), \"Train total loss:\", loss_val, \"\\tReconstruction loss:\", reconstruction_loss_val, \"\\tLatent loss:\", latent_loss_val)  # not shown\n",
        "        saver.save(sess, \"./my_model_variational.ckpt\")  # not shown\n",
        "    \n",
        "    codings_rnd = np.random.normal(size=[n_digits, n_hidden3])\n",
        "    outputs_val = outputs.eval(feed_dict={hidden3: codings_rnd})"
      ],
      "execution_count": 62,
      "outputs": [
        {
          "output_type": "stream",
          "text": [
            "0 Train total loss: 17792.709 \tReconstruction loss: 14123.0625 \tLatent loss: 3669.646\n",
            "1 Train total loss: 17332.342 \tReconstruction loss: 13560.102 \tLatent loss: 3772.24\n",
            "2 Train total loss: 16350.892 \tReconstruction loss: 12579.407 \tLatent loss: 3771.4844\n",
            "3 Train total loss: 16581.518 \tReconstruction loss: 12810.736 \tLatent loss: 3770.7805\n",
            "4 Train total loss: 16223.996 \tReconstruction loss: 12450.131 \tLatent loss: 3773.8652\n",
            "5 Train total loss: 15628.26 \tReconstruction loss: 11819.744 \tLatent loss: 3808.5151\n",
            "6 Train total loss: 16081.065 \tReconstruction loss: 12179.826 \tLatent loss: 3901.2395\n",
            "7 Train total loss: 15772.986 \tReconstruction loss: 12021.429 \tLatent loss: 3751.558\n",
            "8 Train total loss: 16276.628 \tReconstruction loss: 12404.793 \tLatent loss: 3871.8352\n",
            "9 Train total loss: 15589.727 \tReconstruction loss: 11740.702 \tLatent loss: 3849.0242\n",
            "10 Train total loss: 15931.473 \tReconstruction loss: 12031.538 \tLatent loss: 3899.935\n",
            "11 Train total loss: 16112.828 \tReconstruction loss: 12238.486 \tLatent loss: 3874.342\n",
            "12 Train total loss: 16002.112 \tReconstruction loss: 12185.281 \tLatent loss: 3816.8313\n",
            "13 Train total loss: 15357.871 \tReconstruction loss: 11667.521 \tLatent loss: 3690.3494\n",
            "14 Train total loss: 16208.513 \tReconstruction loss: 12264.543 \tLatent loss: 3943.9697\n",
            "15 Train total loss: 15970.17 \tReconstruction loss: 12158.652 \tLatent loss: 3811.517\n",
            "16 Train total loss: 15551.699 \tReconstruction loss: 11783.205 \tLatent loss: 3768.494\n",
            "17 Train total loss: 15330.158 \tReconstruction loss: 11555.859 \tLatent loss: 3774.2986\n",
            "18 Train total loss: 15251.441 \tReconstruction loss: 11584.634 \tLatent loss: 3666.808\n",
            "19 Train total loss: 15196.106 \tReconstruction loss: 11516.661 \tLatent loss: 3679.4456\n",
            "20 Train total loss: 15323.98 \tReconstruction loss: 11525.994 \tLatent loss: 3797.9863\n",
            "21 Train total loss: 15358.85 \tReconstruction loss: 11515.685 \tLatent loss: 3843.1646\n",
            "22 Train total loss: 15297.998 \tReconstruction loss: 11582.629 \tLatent loss: 3715.369\n",
            "23 Train total loss: 14673.109 \tReconstruction loss: 10940.771 \tLatent loss: 3732.338\n",
            "24 Train total loss: 15293.539 \tReconstruction loss: 11561.791 \tLatent loss: 3731.748\n",
            "25 Train total loss: 15256.448 \tReconstruction loss: 11540.917 \tLatent loss: 3715.5312\n",
            "26 Train total loss: 15305.466 \tReconstruction loss: 11475.463 \tLatent loss: 3830.0032\n",
            "27 Train total loss: 15277.008 \tReconstruction loss: 11449.776 \tLatent loss: 3827.232\n",
            "28 Train total loss: 14980.673 \tReconstruction loss: 11318.119 \tLatent loss: 3662.554\n",
            "29 Train total loss: 15232.833 \tReconstruction loss: 11520.143 \tLatent loss: 3712.6907\n",
            "30 Train total loss: 14872.43 \tReconstruction loss: 11172.95 \tLatent loss: 3699.48\n",
            "31 Train total loss: 14890.38 \tReconstruction loss: 11144.217 \tLatent loss: 3746.1628\n",
            "32 Train total loss: 15246.753 \tReconstruction loss: 11439.342 \tLatent loss: 3807.4114\n",
            "33 Train total loss: 15063.587 \tReconstruction loss: 11282.17 \tLatent loss: 3781.4172\n",
            "34 Train total loss: 15046.733 \tReconstruction loss: 11310.273 \tLatent loss: 3736.4602\n",
            "35 Train total loss: 15293.96 \tReconstruction loss: 11599.566 \tLatent loss: 3694.3936\n",
            "36 Train total loss: 15134.613 \tReconstruction loss: 11362.874 \tLatent loss: 3771.7395\n",
            "37 Train total loss: 14705.757 \tReconstruction loss: 11054.776 \tLatent loss: 3650.9802\n",
            "38 Train total loss: 14913.976 \tReconstruction loss: 11077.0625 \tLatent loss: 3836.913\n",
            "39 Train total loss: 14848.155 \tReconstruction loss: 11198.566 \tLatent loss: 3649.5889\n",
            "40 Train total loss: 14694.263 \tReconstruction loss: 10991.547 \tLatent loss: 3702.7156\n",
            "41 Train total loss: 15223.969 \tReconstruction loss: 11465.172 \tLatent loss: 3758.7964\n",
            "42 Train total loss: 14585.374 \tReconstruction loss: 11019.365 \tLatent loss: 3566.0088\n",
            "43 Train total loss: 14579.121 \tReconstruction loss: 10931.281 \tLatent loss: 3647.8403\n",
            "44 Train total loss: 15049.121 \tReconstruction loss: 11381.971 \tLatent loss: 3667.15\n",
            "45 Train total loss: 14855.657 \tReconstruction loss: 11125.605 \tLatent loss: 3730.052\n",
            "46 Train total loss: 14777.751 \tReconstruction loss: 11093.501 \tLatent loss: 3684.2498\n",
            "47 Train total loss: 14408.868 \tReconstruction loss: 10788.545 \tLatent loss: 3620.3232\n",
            "48 Train total loss: 14479.26 \tReconstruction loss: 10864.342 \tLatent loss: 3614.9175\n",
            "49 Train total loss: 14637.682 \tReconstruction loss: 10926.164 \tLatent loss: 3711.5173\n"
          ],
          "name": "stdout"
        }
      ]
    },
    {
      "cell_type": "code",
      "metadata": {
        "id": "SxF2W7PpIq3r",
        "colab_type": "code",
        "colab": {
          "base_uri": "https://localhost:8080/",
          "height": 320
        },
        "outputId": "1e293817-8a72-44b7-c47d-b75ea5ca5b6e"
      },
      "source": [
        "plt.figure(figsize=(8,50)) # not shown in the book\n",
        "for iteration in range(n_digits):\n",
        "    plt.subplot(n_digits, 10, iteration + 1)\n",
        "    plot_image(outputs_val[iteration])"
      ],
      "execution_count": 63,
      "outputs": [
        {
          "output_type": "display_data",
          "data": {
            "image/png": "[encoded data removed]",
            "text/plain": [
              "<Figure size 576x3600 with 60 Axes>"
            ]
          },
          "metadata": {
            "tags": []
          }
        }
      ]
    },
    {
      "cell_type": "code",
      "metadata": {
        "id": "61tcX6Z-I8bK",
        "colab_type": "code",
        "colab": {
          "base_uri": "https://localhost:8080/",
          "height": 296
        },
        "outputId": "99964d0d-3cca-4b92-9dad-19cd8258ad64"
      },
      "source": [
        "n_rows = 6\n",
        "n_cols = 10\n",
        "plot_multiple_images(outputs_val.reshape(-1, 28, 28), n_rows, n_cols)\n",
        "save_fig(\"generated_digits_plot\")\n",
        "plt.show()"
      ],
      "execution_count": 66,
      "outputs": [
        {
          "output_type": "stream",
          "text": [
            "Saving figure generated_digits_plot\n"
          ],
          "name": "stdout"
        },
        {
          "output_type": "display_data",
          "data": {
            "image/png": "[encoded data removed]",
            "text/plain": [
              "<Figure size 432x288 with 1 Axes>"
            ]
          },
          "metadata": {
            "tags": []
          }
        }
      ]
    },
    {
      "cell_type": "markdown",
      "metadata": {
        "id": "TjEVrbRtJdeb",
        "colab_type": "text"
      },
      "source": [
        "Note that the latent loss is computed differently in this second variant:"
      ]
    },
    {
      "cell_type": "code",
      "metadata": {
        "id": "63eDNr_2JYU7",
        "colab_type": "code",
        "colab": {}
      },
      "source": [
        "latent_loss = 0.5 * tf.reduce_sum(\n",
        "    tf.exp(hidden3_gamma) + tf.square(hidden3_mean) - 1 - hidden3_gamma)"
      ],
      "execution_count": 0,
      "outputs": []
    },
    {
      "cell_type": "markdown",
      "metadata": {
        "id": "rFxYL7PhJiSM",
        "colab_type": "text"
      },
      "source": [
        "**Encode & Decode**"
      ]
    },
    {
      "cell_type": "markdown",
      "metadata": {
        "id": "dY_srJqYJnCf",
        "colab_type": "text"
      },
      "source": [
        "Encode:"
      ]
    },
    {
      "cell_type": "code",
      "metadata": {
        "id": "e-0bVzi5Jkkv",
        "colab_type": "code",
        "colab": {}
      },
      "source": [
        "n_digits = 3\n",
        "X_test, y_test = mnist.test.next_batch(batch_size)\n",
        "codings = hidden3\n",
        "\n",
        "with tf.Session() as sess:\n",
        "    saver.restore(sess, \"./my_model_variational.ckpt\")\n",
        "    codings_val = codings.eval(feed_dict={X: X_test})"
      ],
      "execution_count": 0,
      "outputs": []
    },
    {
      "cell_type": "markdown",
      "metadata": {
        "id": "zHQm4QUdJ2oX",
        "colab_type": "text"
      },
      "source": [
        "Decode:"
      ]
    },
    {
      "cell_type": "code",
      "metadata": {
        "id": "MjdXANrlJ4wS",
        "colab_type": "code",
        "colab": {}
      },
      "source": [
        "with tf.Session() as sess:\n",
        "    saver.restore(sess, \"./my_model_variational.ckpt\")\n",
        "    outputs_val = outputs.eval(feed_dict={codings: codings_val})"
      ],
      "execution_count": 0,
      "outputs": []
    },
    {
      "cell_type": "code",
      "metadata": {
        "id": "U2uM43FmKBIl",
        "colab_type": "code",
        "colab": {
          "base_uri": "https://localhost:8080/",
          "height": 461
        },
        "outputId": "953fcf93-2088-479a-d144-137e9d19deab"
      },
      "source": [
        "fig = plt.figure(figsize=(8, 2.5 * n_digits))\n",
        "for iteration in range(n_digits):\n",
        "    plt.subplot(n_digits, 2, 1 + 2 * iteration)\n",
        "    plot_image(X_test[iteration])\n",
        "    plt.subplot(n_digits, 2, 2 + 2 * iteration)\n",
        "    plot_image(outputs_val[iteration])"
      ],
      "execution_count": 70,
      "outputs": [
        {
          "output_type": "display_data",
          "data": {
            "image/png": "[encoded data removed]",
            "text/plain": [
              "<Figure size 576x540 with 6 Axes>"
            ]
          },
          "metadata": {
            "tags": []
          }
        }
      ]
    },
    {
      "cell_type": "markdown",
      "metadata": {
        "id": "JjJSyxmbKQNb",
        "colab_type": "text"
      },
      "source": [
        "**Interpolate digits**"
      ]
    },
    {
      "cell_type": "code",
      "metadata": {
        "id": "mT1QIx1PKO2S",
        "colab_type": "code",
        "colab": {
          "base_uri": "https://localhost:8080/",
          "height": 516
        },
        "outputId": "f8d287fd-d7a0-47c7-970a-10d1c8ff90a7"
      },
      "source": [
        "n_iterations = 3\n",
        "n_digits = 6\n",
        "codings_rnd = np.random.normal(size=[n_digits, n_hidden3])\n",
        "\n",
        "with tf.Session() as sess:\n",
        "    saver.restore(sess, \"./my_model_variational.ckpt\")\n",
        "    target_codings = np.roll(codings_rnd, -1, axis=0)\n",
        "    for iteration in range(n_iterations + 1):\n",
        "        codings_interpolate = codings_rnd + (target_codings - codings_rnd) * iteration / n_iterations\n",
        "        outputs_val = outputs.eval(feed_dict={codings: codings_interpolate})\n",
        "        plt.figure(figsize=(11, 1.5*n_iterations))\n",
        "        for digit_index in range(n_digits):\n",
        "            plt.subplot(1, n_digits, digit_index + 1)\n",
        "            plot_image(outputs_val[digit_index])\n",
        "        plt.show()"
      ],
      "execution_count": 71,
      "outputs": [
        {
          "output_type": "display_data",
          "data": {
            "image/png": "[encoded data removed]",
            "text/plain": [
              "<Figure size 792x324 with 6 Axes>"
            ]
          },
          "metadata": {
            "tags": []
          }
        },
        {
          "output_type": "display_data",
          "data": {
            "image/png": "[encoded data removed]",
            "text/plain": [
              "<Figure size 792x324 with 6 Axes>"
            ]
          },
          "metadata": {
            "tags": []
          }
        },
        {
          "output_type": "display_data",
          "data": {
            "image/png": "[encoded data removed]",
            "text/plain": [
              "<Figure size 792x324 with 6 Axes>"
            ]
          },
          "metadata": {
            "tags": []
          }
        },
        {
          "output_type": "display_data",
          "data": {
            "image/png": "[encoded data removed]",
            "text/plain": [
              "<Figure size 792x324 with 6 Axes>"
            ]
          },
          "metadata": {
            "tags": []
          }
        }
      ]
    }
  ]
}